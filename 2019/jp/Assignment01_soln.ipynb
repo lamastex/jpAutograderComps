{
 "cells": [
  {
   "cell_type": "markdown",
   "metadata": {
    "deletable": false
   },
   "source": [
    "# [Applied Statistics](https://lamastex.github.io/scalable-data-science/as/2019/)\n",
    "## 1MS926, Spring 2019, Uppsala University \n",
    "&copy;2019 Raazesh Sainudiin. [Attribution 4.0 International (CC BY 4.0)](https://creativecommons.org/licenses/by/4.0/)"
   ]
  },
  {
   "cell_type": "markdown",
   "metadata": {
    "deletable": false
   },
   "source": [
    "# Assignment 1 for Course 1MS926\n",
    "Fill in your Personal Number, make     sure you pass the `# ... Test` cells and\n",
    " submit by email with *Subject line*     **1MS926 Assignment1**.\n",
    "You can submit multiple times before the deadline     and your highest score will be used."
   ]
  },
  {
   "cell_type": "code",
   "execution_count": null,
   "metadata": {
    "deletable": false,
    "lx_cell_type": "personal_number"
   },
   "outputs": [],
   "source": [
    "# Enter your 12 digit personal number here and evaluate this cell\n",
    "MyPersonalNumber = 'YYYYMMDDXXXX'\n",
    "\n",
    "#tests\n",
    "assert(isinstance(MyPersonalNumber, basestring))\n",
    "assert(MyPersonalNumber.isdigit())\n",
    "assert(len(MyPersonalNumber)==12)"
   ]
  },
  {
   "cell_type": "markdown",
   "metadata": {
    "lx_assignment_number": "1",
    "lx_problem_cell_type": "PROBLEM"
   },
   "source": [
    "---\n",
    "---\n",
    "## Assignment 1, Problem 0\n",
    "Maximum Points = 3"
   ]
  },
  {
   "cell_type": "markdown",
   "metadata": {
    "lx_assignment_number": "1",
    "lx_problem_cell_type": "PROBLEM",
    "lx_problem_number": "0",
    "lx_problem_points": "3"
   },
   "source": [
    "\n",
    "Given that you are in the civil engineering programme in *systems in technology and society*, spend some time reading the following:\n",
    "- [https://anatomyof.ai/](https://anatomyof.ai/), \"Anatomy of an AI System\" By Kate Crawford and Vladan Joler (2018)\n",
    "\n",
    "Answer whether each of the following statements is `True` or `False` *according to the authors* by appropriately replacing `Xxxxx` coresponding to `TruthValueOfStatement0a`, `TruthValueOfStatement0b` and `TruthValueOfStatement0c`, respectively, in the next cell to demonstrate your reading comprehension.\n",
    "\n",
    "1. `Statement0a =` *Each small moment of convenience (provided by Amazon's Echo) – be it answering a question, turning on a light, or playing a song – requires a vast planetary network, fueled by the extraction of non-renewable materials, labor, and data.*\n",
    "- `Statement0b =` *The Echo user is simultaneously a consumer, a resource, a worker, and a product* \n",
    "- `Statement0c =` *Many of the assumptions about human life made by machine learning systems are narrow, normative and laden with error. Yet they are inscribing and building those assumptions into a new world, and will increasingly play a role in how opportunities, wealth, and knowledge are distributed.*"
   ]
  },
  {
   "cell_type": "code",
   "execution_count": null,
   "metadata": {
    "lx_assignment_number": "1",
    "lx_problem_cell_type": "PROBLEM",
    "lx_problem_number": "0",
    "lx_problem_points": "3"
   },
   "outputs": [],
   "source": [
    "# Replace Xxxxx with True or False; Don't modify anything else in this cell!\n",
    "\n",
    "TruthValueOfStatement0a = Xxxxx\n",
    "\n",
    "TruthValueOfStatement0b = Xxxxx\n",
    "\n",
    "TruthValueOfStatement0c = Xxxxx"
   ]
  },
  {
   "cell_type": "code",
   "execution_count": 3,
   "metadata": {
    "lx_assignment_number": "1",
    "lx_problem_cell_type": "Test",
    "lx_problem_number": "0",
    "lx_problem_points": "3"
   },
   "outputs": [],
   "source": [
    "# ASSIGNMENT 1, Test 0, POINTS 3\n",
    "# Test locally to ensure an acceptable answer, True or False\n",
    "assert(isinstance(TruthValueOfStatement0a, bool)) \n",
    "assert(isinstance(TruthValueOfStatement0b, bool)) \n",
    "assert(isinstance(TruthValueOfStatement0c, bool)) "
   ]
  },
  {
   "cell_type": "code",
   "execution_count": 4,
   "metadata": {
    "lx_assignment_number": "1",
    "lx_problem_cell_type": "SOLUTION",
    "lx_problem_number": "0",
    "lx_problem_points": "3"
   },
   "outputs": [],
   "source": [
    "# ASSIGNMENT 1, SOLUTION 0, POINTS 3\n",
    "assert(isinstance(TruthValueOfStatement0a, bool))\n",
    "assert(TruthValueOfStatement0a == True)\n",
    "assert(isinstance(TruthValueOfStatement0b, bool))\n",
    "assert(TruthValueOfStatement0b == True)\n",
    "assert(isinstance(TruthValueOfStatement0c, bool))\n",
    "assert(TruthValueOfStatement0c == True)"
   ]
  },
  {
   "cell_type": "markdown",
   "metadata": {
    "lx_assignment_number": "1",
    "lx_problem_cell_type": "PROBLEM"
   },
   "source": [
    "---\n",
    "---\n",
    "## Assignment 1, Problem 1\n",
    "Maximum Points = 1"
   ]
  },
  {
   "cell_type": "markdown",
   "metadata": {
    "lx_assignment_number": "1",
    "lx_problem_cell_type": "PROBLEM",
    "lx_problem_number": "1",
    "lx_problem_points": "1"
   },
   "source": [
    "\n",
    "#### NonAutoGraded\n",
    "#### Summarise in 50-100 words your thoughts after reading [https://anatomyof.ai/](https://anatomyof.ai/), \"Anatomy of an AI System\" By Kate Crawford and Vladan Joler (2018)\n",
    "\n",
    "\n",
    "You can double-click this cell and start writing your summary below between the two `---` lines in English.\n",
    "\n",
    "---\n",
    "\n",
    "\n",
    "\n",
    "---"
   ]
  },
  {
   "cell_type": "markdown",
   "metadata": {
    "lx_assignment_number": "1",
    "lx_problem_cell_type": "PROBLEM"
   },
   "source": [
    "---\n",
    "---\n",
    "## Assignment 1, Problem 2\n",
    "Maximum Points = 2"
   ]
  },
  {
   "cell_type": "markdown",
   "metadata": {
    "lx_assignment_number": "1",
    "lx_problem_cell_type": "PROBLEM",
    "lx_problem_number": "2",
    "lx_problem_points": "2"
   },
   "source": [
    "\n",
    "### Finding out the number of lines and characters in a file\n",
    "\n",
    "Evaluate the following two cells by replacing `X` with the right command-line option to `wc` command in order to find:\n",
    "\n",
    "1. the number of lines in `data/earthquakes_small.csv` and \n",
    "2. the number of characters in `data/earthquakes_small.csv` \n",
    "\n",
    "Finally, update the following cell by replacing `XXX` with the right integer answers, respectively, for:\n",
    "\n",
    "1. `NumberOfLinesIn_earthquakes_small_csv_file` and \n",
    "2. `NumberOfCharactersIn_earthquakes_small_csv_file` \n",
    "\n",
    "Here is a brief synopsis of `wc` that you would get from running `man wc` as follows:\n",
    "```\n",
    "%%sh\n",
    "man wc\n",
    "```\n",
    "\n",
    "```\n",
    "WC(1)                     BSD General Commands Manual                    WC(1)\n",
    "\n",
    "NAME\n",
    "     wc -- word, line, character, and byte count\n",
    "\n",
    "SYNOPSIS\n",
    "     wc [-clmw] [file ...]\n",
    "\n",
    "DESCRIPTION\n",
    "     The wc utility displays the number of lines, words, and bytes contained in each input file, or standard input (if no file is specified) to the standard output.  A line is defined as a string of characters delimited by a <newline> character.  Characters beyond the final <newline> character will not be included in the line count.\n",
    "\n",
    "     A word is defined as a string of characters delimited by white space characters.  White space characters are the set of characters for which the iswspace(3) function returns true.  If more than one input file is specified, a line of cumulative counts for all the files is displayed on a separate line after the output for the last file.\n",
    "\n",
    "     The following options are available:\n",
    "\n",
    "     -c      The number of bytes in each input file is written to the standard output.  This will cancel out any prior usage of the -m option.\n",
    "\n",
    "     -l      The number of lines in each input file is written to the standard output.\n",
    "\n",
    "     -m      The number of characters in each input file is written to the standard output.  If the current locale does not support multibyte\n",
    "             characters, this is equivalent to the -c option.  This will cancel out any prior usage of the -c option.\n",
    "\n",
    "     -w      The number of words in each input file is written to the standard output.\n",
    "\n",
    "     When an option is specified, wc only reports the information requested by that option.  The order of output always takes the form of line, word, byte, and file name.  The default action is equivalent to specifying the -c, -l and -w options.\n",
    "```"
   ]
  },
  {
   "cell_type": "code",
   "execution_count": null,
   "metadata": {
    "lx_assignment_number": "1",
    "lx_problem_cell_type": "PROBLEM",
    "lx_problem_number": "2",
    "lx_problem_points": "2"
   },
   "outputs": [],
   "source": [
    "%%sh\n",
    "# replace X in the next line with the right option to find the number of lines\n",
    "wc -X data/earthquakes_small.csv"
   ]
  },
  {
   "cell_type": "code",
   "execution_count": null,
   "metadata": {
    "lx_assignment_number": "1",
    "lx_problem_cell_type": "PROBLEM",
    "lx_problem_number": "2",
    "lx_problem_points": "2"
   },
   "outputs": [],
   "source": [
    "%%sh\n",
    "# replace X in the next line with the right option to find the number of characters\n",
    "wc -X data/earthquakes_small.csv"
   ]
  },
  {
   "cell_type": "code",
   "execution_count": 11,
   "metadata": {
    "lx_assignment_number": "1",
    "lx_problem_cell_type": "PROBLEM",
    "lx_problem_number": "2",
    "lx_problem_points": "2"
   },
   "outputs": [],
   "source": [
    "# write your answer below by replacing XXX don't modify anything else! \n",
    "\n",
    "NumberOfLinesIn_earthquakes_small_csv_file = XXX\n",
    "NumberOfCharactersIn_earthquakes_small_csv_file = XXX"
   ]
  },
  {
   "cell_type": "code",
   "execution_count": null,
   "metadata": {
    "lx_assignment_number": "1",
    "lx_problem_cell_type": "Test",
    "lx_problem_number": "2",
    "lx_problem_points": "2"
   },
   "outputs": [],
   "source": [
    "# ASSIGNMENT 1, Test 2, POINTS 2\n",
    "# Run this test locally to make sure you have the answer as a non-negative integer\n",
    "assert(NumberOfLinesIn_earthquakes_small_csv_file > -1)\n",
    "assert(NumberOfCharactersIn_earthquakes_small_csv_file > -1)"
   ]
  },
  {
   "cell_type": "code",
   "execution_count": 11,
   "metadata": {
    "lx_assignment_number": "1",
    "lx_problem_cell_type": "SOLUTION",
    "lx_problem_number": "2",
    "lx_problem_points": "2"
   },
   "outputs": [],
   "source": [
    "# ASSIGNMENT 1, SOLUTION 2, POINTS 2\n",
    "NumberOfLinesIn_earthquakes_small_csv_file = 411\n",
    "NumberOfCharactersIn_earthquakes_small_csv_file = 77786"
   ]
  },
  {
   "cell_type": "code",
   "execution_count": 12,
   "metadata": {
    "lx_assignment_number": "1",
    "lx_problem_cell_type": "TEST",
    "lx_problem_number": "2",
    "lx_problem_points": "2"
   },
   "outputs": [],
   "source": [
    "# ASSIGNMENT 1, TEST 2, POINTS 2\n",
    "assert(NumberOfLinesIn_earthquakes_small_csv_file==411)\n",
    "assert(NumberOfCharactersIn_earthquakes_small_csv_file==77786)"
   ]
  },
  {
   "cell_type": "markdown",
   "metadata": {
    "lx_assignment_number": "1",
    "lx_problem_cell_type": "PROBLEM"
   },
   "source": [
    "---\n",
    "---\n",
    "## Assignment 1, Problem 3\n",
    "Maximum Points = 1"
   ]
  },
  {
   "cell_type": "markdown",
   "metadata": {
    "lx_assignment_number": "1",
    "lx_problem_cell_type": "PROBLEM",
    "lx_problem_number": "3",
    "lx_problem_points": "1"
   },
   "source": [
    "\n",
    "Consider the experiment where we roll two fair dice independently. \n",
    "\n",
    "Let $D$ be the event that \"the sum of the two dice is 8\" and let $C$ be the event that \"the first die is 2\".\n",
    "\n",
    "What is the probability of D given C, i.e. what is $P(D|C)$?\n",
    "\n",
    "Do the calculation by hand and write the answer in the next cell by assigning the variable `ProbOfDGivenC`. "
   ]
  },
  {
   "cell_type": "code",
   "execution_count": 6,
   "metadata": {
    "lx_assignment_number": "1",
    "lx_problem_cell_type": "PROBLEM",
    "lx_problem_number": "3",
    "lx_problem_points": "1"
   },
   "outputs": [],
   "source": [
    "# Replace XXX below with the correct answer to Assignment 1 Problem 3\n",
    "# Do NOT change the name of the variable ProbOfDGivenC\n",
    "ProbOfDGivenC = XXX"
   ]
  },
  {
   "cell_type": "code",
   "execution_count": 7,
   "metadata": {
    "lx_assignment_number": "1",
    "lx_problem_cell_type": "Test",
    "lx_problem_number": "3",
    "lx_problem_points": "1"
   },
   "outputs": [],
   "source": [
    "# ASSIGNMENT 1, Test 3, POINTS 1\n",
    "# test that your answer is indeed a probability!\n",
    "assert(ProbOfDGivenC >= 0 and ProbOfDGivenC <= 1)"
   ]
  },
  {
   "cell_type": "code",
   "execution_count": null,
   "metadata": {
    "lx_assignment_number": "1",
    "lx_problem_cell_type": "SOLUTION",
    "lx_problem_number": "3",
    "lx_problem_points": "1"
   },
   "outputs": [],
   "source": [
    "# ASSIGNMENT 1, SOLUTION 3, POINTS 1\n",
    "ProbOfDGivenC = 1/5"
   ]
  },
  {
   "cell_type": "code",
   "execution_count": null,
   "metadata": {
    "lx_assignment_number": "1",
    "lx_problem_cell_type": "TEST",
    "lx_problem_number": "3",
    "lx_problem_points": "1"
   },
   "outputs": [],
   "source": [
    "# ASSIGNMENT 1, TEST 3, POINTS 1\n",
    "assert(ProbOfDGivenC = 1/5)"
   ]
  },
  {
   "cell_type": "markdown",
   "metadata": {
    "lx_assignment_number": "1",
    "lx_problem_cell_type": "PROBLEM"
   },
   "source": [
    "---\n",
    "---\n",
    "## Assignment 1, Problem 4\n",
    "Maximum Points = 2"
   ]
  },
  {
   "cell_type": "markdown",
   "metadata": {
    "lx_assignment_number": "1",
    "lx_problem_cell_type": "PROBLEM",
    "lx_problem_number": "4",
    "lx_problem_points": "2"
   },
   "source": [
    "\n",
    "Recall that for a given parameter $\\theta \\in [0,1]$, the probability mass function (PMF) for the $Bernoulli(\\theta)$ RV $X$ is:\n",
    "\n",
    "$$\n",
    "\\begin{equation}\n",
    "f(x;\\theta)= \\theta^x (1-\\theta)^{1-x} \\mathbf{1}_{\\{0,1\\}}(x) =\n",
    "\\begin{cases}\n",
    "\\theta & \\text{if $x=1$,}\\\\\n",
    "1-\\theta & \\text{if $x=0$,}\\\\\n",
    "0 & \\text{otherwise}\n",
    "\\end{cases}\n",
    "\\end{equation}\n",
    "$$\n",
    "\n",
    "In the next cell write a function named `pmfOfBernoulli` that takes in two arguments:\n",
    "\n",
    "- the first argument is `x` and \n",
    "- the second argument is `theta`\n",
    "\n",
    "and returns the value for $f(x; \\theta)$."
   ]
  },
  {
   "cell_type": "code",
   "execution_count": null,
   "metadata": {
    "lx_assignment_number": "1",
    "lx_problem_cell_type": "PROBLEM",
    "lx_problem_number": "4",
    "lx_problem_points": "2"
   },
   "outputs": [],
   "source": [
    "# Replace RRR...RRR below Do NOT change the name of the function `pmfOfBernoulli`!\n",
    "\n",
    "def pmfOfBernoulli(x, theta):\n",
    "    '''RRR ... RRR'''\n",
    "    RRR\n",
    "    RRR\n",
    "    RRR\n",
    "    ...\n",
    "    RRR"
   ]
  },
  {
   "cell_type": "code",
   "execution_count": null,
   "metadata": {
    "lx_assignment_number": "1",
    "lx_problem_cell_type": "Test",
    "lx_problem_number": "4",
    "lx_problem_points": "2"
   },
   "outputs": [],
   "source": [
    "# ASSIGNMENT 1, Test 4, POINTS 2\n",
    "# Use this to locally test that your solution is returning probabilities\n",
    "assert(pmfOfBernoulli(0, 1/2) >=0)\n",
    "assert(pmfOfBernoulli(1, 1/2) <=1)"
   ]
  },
  {
   "cell_type": "code",
   "execution_count": 30,
   "metadata": {
    "lx_assignment_number": "1",
    "lx_problem_cell_type": "SOLUTION",
    "lx_problem_number": "4",
    "lx_problem_points": "2"
   },
   "outputs": [],
   "source": [
    "# ASSIGNMENT 1, SOLUTION 4, POINTS 2\n",
    "def pmfOfBernoulli(x, theta):\n",
    "    '''return the probability of a Bernoulli(theta) RV with outcome x, i.e., the PMF f(x; theta)'''\n",
    "    \n",
    "    # first check that theta is in the allowed parameter range [0,1]\n",
    "    # you can do by a simple if then statement after doing some try-catch to make sure it was a number\n",
    "    try: \n",
    "        param_theta = RR(theta)\n",
    "    except TypeError:\n",
    "        print \"Input Error: parameter theta should be a real number\"\n",
    "    # next try-catch to see if the outcome_x is convertible into a real number\n",
    "    try: \n",
    "        outcome_x = RR(x)\n",
    "    except TypeError:\n",
    "        print \"Input Error: outcome x should be a real number as the domain of the PMF is the real line\"\n",
    "    # you will get some credits without try-catch but it's important to check the edge cases and constraints\n",
    "    \n",
    "    if (theta < 0 or theta > 1):\n",
    "        print \"Input Error: Parameter theta Out of Range as theta \\in [0,1], but the input value of theta = \", theta\n",
    "        return \"parameter error, check input\" # one can do more sophisticated error outputs\n",
    "    else:\n",
    "        if x == 0:\n",
    "            return 1-theta\n",
    "        if x==1:\n",
    "            return theta\n",
    "        else:\n",
    "            return 0"
   ]
  },
  {
   "cell_type": "code",
   "execution_count": 36,
   "metadata": {
    "lx_assignment_number": "1",
    "lx_problem_cell_type": "TEST",
    "lx_problem_number": "4",
    "lx_problem_points": "2"
   },
   "outputs": [],
   "source": [
    "# ASSIGNMENT 1, TEST 4, POINTS 2\n",
    "assert(pmfOfBernoulli(1, 0.5)==0.5)\n",
    "assert(pmfOfBernoulli(0, 0.5)==0.5)\n",
    "assert(pmfOfBernoulli(1, 0.25)==0.25)\n",
    "assert(pmfOfBernoulli(0, 0.25)==0.75)\n",
    "assert(pmfOfBernoulli(10, 0.25)==0)\n",
    "assert(pmfOfBernoulli(-10, 0.25)==0)\n",
    "\n",
    "# due to more try-catch statements the following calls will make sense, uncomment and evaluate one by one\n",
    "#pmfOfBernoulli(1, 1.25)\n",
    "#pmfOfBernoulli('1', 0.5)\n",
    "#pmfOfBernoulli('outcome is 1', 0.5)"
   ]
  }
 ],
 "metadata": {
  "kernelspec": {
   "display_name": "SageMath 8.4",
   "language": "",
   "name": "sagemath"
  },
  "language_info": {
   "codemirror_mode": {
    "name": "ipython",
    "version": 2
   },
   "file_extension": ".py",
   "mimetype": "text/x-python",
   "name": "python",
   "nbconvert_exporter": "python",
   "pygments_lexer": "ipython2",
   "version": "2.7.15"
  },
  "lx_assignment_number": "1",
  "lx_course_instance": "Spring 2019, Uppsala University",
  "lx_course_name": "Applied Statistics",
  "lx_course_number": "1MS926"
 },
 "nbformat": 4,
 "nbformat_minor": 2
}
