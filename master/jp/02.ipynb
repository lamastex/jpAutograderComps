{
 "cells": [
  {
   "cell_type": "markdown",
   "metadata": {},
   "source": [
    "# 02. Numbers, Strings, Booleans and Sets\n",
    "## [Applied Statistics](https://lamastex.github.io/scalable-data-science/as/2019/)\n",
    "\n",
    "&copy;2019 Raazesh Sainudiin. [Attribution 4.0 International (CC BY 4.0)](https://creativecommons.org/licenses/by/4.0/)\n"
   ]
  },
  {
   "cell_type": "markdown",
   "metadata": {},
   "source": [
    "# Numbers and Arithmetic Operations\n",
    "\n",
    "We will start by showing you some of the basic numeric capabilities of SageMath.\n",
    "\n",
    "A worksheet cell is the area enclosed by a gray rectangle.  \n",
    "You may type any expression you want to evaluate into a worksheet cell.   We have already put some expressions into this worksheet.\n",
    "\n",
    "When you are in a cell you can evaluate the expression in it by pressing <SHIFT><ENTER> or just by clicking the evaluate button below the cell. \n",
    "\n",
    "To start with, we are going to be using SAGE like a hand-held calculator. Let's perform the basic arithmetic operations of addition, subtraction, multiplication, division, exponentiation, and remainder over the three standard number systems: Integers denoted by $\\mathbb{Z}$, Rational Numbers denoted by $\\mathbb{Q}$ and Real Numbers denoted by $\\mathbb{R}$.  Let us recall the real number line and the basics of number systems next.\n",
    "\n",
    "<img src=\"https://upload.wikimedia.org/wikipedia/commons/a/a0/NumberSetinC.svg\" alt=\"Number sets within Complex Numbers\" height=\"400\" width=\"400\">\n"
   ]
  },
  {
   "cell_type": "code",
   "execution_count": 102,
   "metadata": {},
   "outputs": [
    {
     "data": {
      "text/html": [
       "\n",
       "        <iframe\n",
       "            width=\"95%\"\n",
       "            height=\"400\"\n",
       "            src=\"https://en.wikipedia.org/wiki/Number\"\n",
       "            frameborder=\"0\"\n",
       "            allowfullscreen\n",
       "        ></iframe>\n",
       "        "
      ],
      "text/plain": [
       "<IPython.lib.display.IFrame object at 0x7f298cf2da50>"
      ]
     },
     "execution_count": 102,
     "metadata": {},
     "output_type": "execute_result"
    }
   ],
   "source": [
    "def showURL(url, ht=500):\n",
    "    \"\"\"Return an IFrame of the url to show in notebook with height ht \"\"\"\n",
    "    from IPython.display import IFrame\n",
    "    return IFrame(url, width='95%', height=ht) \n",
    "showURL('https://en.wikipedia.org/wiki/Number',400)"
   ]
  },
  {
   "cell_type": "markdown",
   "metadata": {},
   "source": [
    "The most basic numbers are called natural numbers and they are denoted by $\\mathbb{N} :=\\{0, 1,2,3,\\ldots\\}$. \n",
    "See [https://en.wikipedia.org/wiki/Natural_number](https://en.wikipedia.org/wiki/Natural_number).\n",
    "\n",
    "\n",
    "> The natural numbers are the basis from which many other number sets may be built by extension: the integers, by including (if not yet in) the neutral element 0 and an additive inverse (−n) for each nonzero natural number n; the rational numbers, by including a multiplicative inverse (1/n) for each nonzero integer n (and also the product of these inverses by integers); the real numbers by including with the rationals the limits of (converging) Cauchy sequences of rationals; the complex numbers, by including with the real numbers the unresolved square root of minus one (and also the sums and products thereof); and so on. These chains of extensions make the natural numbers canonically embedded (identified) in the other number systems."
   ]
  },
  {
   "cell_type": "code",
   "execution_count": 103,
   "metadata": {},
   "outputs": [
    {
     "data": {
      "text/html": [
       "\n",
       "        <iframe\n",
       "            width=\"95%\"\n",
       "            height=\"300\"\n",
       "            src=\"https://en.wikipedia.org/wiki/Natural_number#Notation\"\n",
       "            frameborder=\"0\"\n",
       "            allowfullscreen\n",
       "        ></iframe>\n",
       "        "
      ],
      "text/plain": [
       "<IPython.lib.display.IFrame object at 0x7f299457d110>"
      ]
     },
     "execution_count": 103,
     "metadata": {},
     "output_type": "execute_result"
    }
   ],
   "source": [
    "showURL(\"https://en.wikipedia.org/wiki/Natural_number#Notation\",300)"
   ]
  },
  {
   "cell_type": "markdown",
   "metadata": {},
   "source": [
    "Let us get our fingers dirty with some numerical operations in SageMath. \n",
    "\n",
    "Note that anything after a '#' symbol is a comment - comments are ignored by SAGE but help programmers \n",
    "to know what's going on.  \n",
    "\n",
    "### Example 1: Integer Arithmetic\n",
    "\n",
    "Try evaluating the cell containing 1+2 below by placing the cursor in the cell and pressing  <SHIFT><ENTER>.  "
   ]
  },
  {
   "cell_type": "code",
   "execution_count": 3,
   "metadata": {},
   "outputs": [
    {
     "data": {
      "text/plain": [
       "3"
      ]
     },
     "execution_count": 3,
     "metadata": {},
     "output_type": "execute_result"
    }
   ],
   "source": [
    "1+2 # one is being added to 2"
   ]
  },
  {
   "cell_type": "markdown",
   "metadata": {},
   "source": [
    "Now, modify the above expression and evaluate it again.  Try 3+4, for instance."
   ]
  },
  {
   "cell_type": "code",
   "execution_count": 4,
   "metadata": {},
   "outputs": [
    {
     "data": {
      "text/plain": [
       "-1"
      ]
     },
     "execution_count": 4,
     "metadata": {},
     "output_type": "execute_result"
    }
   ],
   "source": [
    "3-4 # subtracting 4 from 3"
   ]
  },
  {
   "cell_type": "markdown",
   "metadata": {},
   "source": [
    "The multiplication operator is `*`, the division operator is `/`."
   ]
  },
  {
   "cell_type": "code",
   "execution_count": 5,
   "metadata": {},
   "outputs": [
    {
     "data": {
      "text/plain": [
       "12"
      ]
     },
     "execution_count": 5,
     "metadata": {},
     "output_type": "execute_result"
    }
   ],
   "source": [
    "2*6 # multiplying 2 by 6"
   ]
  },
  {
   "cell_type": "code",
   "execution_count": 6,
   "metadata": {},
   "outputs": [
    {
     "data": {
      "text/plain": [
       "3"
      ]
     },
     "execution_count": 6,
     "metadata": {},
     "output_type": "execute_result"
    }
   ],
   "source": [
    "15/5 # dividing 15 by 5"
   ]
  },
  {
   "cell_type": "code",
   "execution_count": 7,
   "metadata": {},
   "outputs": [
    {
     "data": {
      "text/plain": [
       "<type 'sage.rings.integer.Integer'>"
      ]
     },
     "execution_count": 7,
     "metadata": {},
     "output_type": "execute_result"
    }
   ],
   "source": [
    "type(1)"
   ]
  },
  {
   "cell_type": "markdown",
   "metadata": {},
   "source": [
    "The exponentiation operator is `^`."
   ]
  },
  {
   "cell_type": "code",
   "execution_count": 8,
   "metadata": {},
   "outputs": [
    {
     "data": {
      "text/plain": [
       "8"
      ]
     },
     "execution_count": 8,
     "metadata": {},
     "output_type": "execute_result"
    }
   ],
   "source": [
    "2^3 # exponentiating 2 by 3, i.e., raising 2 to the third power"
   ]
  },
  {
   "cell_type": "markdown",
   "metadata": {},
   "source": [
    "However, Python's exponentiation operator `**` also works."
   ]
  },
  {
   "cell_type": "code",
   "execution_count": 9,
   "metadata": {},
   "outputs": [
    {
     "data": {
      "text/plain": [
       "8"
      ]
     },
     "execution_count": 9,
     "metadata": {},
     "output_type": "execute_result"
    }
   ],
   "source": [
    "2**3"
   ]
  },
  {
   "cell_type": "markdown",
   "metadata": {},
   "source": [
    "Being able to finding the remainder after a division is surprisingly useful in computer programming."
   ]
  },
  {
   "cell_type": "code",
   "execution_count": 10,
   "metadata": {},
   "outputs": [
    {
     "data": {
      "text/plain": [
       "2"
      ]
     },
     "execution_count": 10,
     "metadata": {},
     "output_type": "execute_result"
    }
   ],
   "source": [
    "11%3 # remainder after 11 is divided by 3; i.e., 11=3*3+2"
   ]
  },
  {
   "cell_type": "markdown",
   "metadata": {},
   "source": [
    "Another way of referring to this is 11 modulus 3, which evaluates to 2.   Here `%` is the modulus operator.\n",
    "\n",
    "### You try\n",
    "\n",
    "Try typing in and evaluating some expressions of your own.  You can get new cells above or below an existing cell by clicking 'Insert' in the menu above and 'Insert Cell Above' or 'Insert Cell below'. You can also place the cursor at an existing cell and click `+` icon above to get a new cell below. "
   ]
  },
  {
   "cell_type": "code",
   "execution_count": null,
   "metadata": {},
   "outputs": [],
   "source": []
  },
  {
   "cell_type": "markdown",
   "metadata": {},
   "source": [
    "What happens if you put space between the characters in your expression, like:\n",
    "`1   +   2` \n",
    "instead of `1+2`?. "
   ]
  },
  {
   "cell_type": "code",
   "execution_count": null,
   "metadata": {},
   "outputs": [],
   "source": []
  },
  {
   "cell_type": "markdown",
   "metadata": {},
   "source": [
    "### Example 2: Operator Precedence for Evaluating Arithmetic Expressions\n",
    "\n",
    "Sometimes we want to perform more than one arithmetic operation with some given integers.  \n",
    "Suppose, we want to \n",
    "\n",
    "- \"divide 12 by 4 then add the product of 2 and 3 and finally subtract 1.\"  \n",
    "\n",
    "Perhaps this can be achieved by evaluating the expression \"12/4+2*3-1\"?\n",
    "\n",
    "But could that also be interpreted as \n",
    "\n",
    "- \"divide 12 by the sum of 4 and 2 and multiply the result by the difference of 3 and 1\"?\n",
    "\n",
    "In programming, there are rules for the order in which arithmetic operations are carried out.  This is called the order of precedence.\n",
    "\n",
    "The basic arithmetic operations are: +, -, *, %, /, ^. \n",
    "\n",
    "The order in which operations are evaluated are as follows:\n",
    "\n",
    "- ^ Exponents are evaluated right to left\n",
    "- *, %, / Then multiplication, remainder and division operations are evaluated left to right\n",
    "- +, - Finally, addition and subtraction are evaluated left to right\n",
    "\n",
    "When operators are at the same level in the list above, what matters is the evaluation order (right to left, or left to right). \n",
    "\n",
    "Operator precedence can be forced using parenthesis."
   ]
  },
  {
   "cell_type": "code",
   "execution_count": 109,
   "metadata": {},
   "outputs": [
    {
     "data": {
      "text/html": [
       "\n",
       "        <iframe\n",
       "            width=\"95%\"\n",
       "            height=\"300\"\n",
       "            src=\"https://en.wikipedia.org/wiki/Order_of_operations\"\n",
       "            frameborder=\"0\"\n",
       "            allowfullscreen\n",
       "        ></iframe>\n",
       "        "
      ],
      "text/plain": [
       "<IPython.lib.display.IFrame object at 0x7f298cf2d710>"
      ]
     },
     "execution_count": 109,
     "metadata": {},
     "output_type": "execute_result"
    }
   ],
   "source": [
    "showURL(\"https://en.wikipedia.org/wiki/Order_of_operations\", 300)"
   ]
  },
  {
   "cell_type": "code",
   "execution_count": 12,
   "metadata": {},
   "outputs": [
    {
     "data": {
      "text/plain": [
       "8"
      ]
     },
     "execution_count": 12,
     "metadata": {},
     "output_type": "execute_result"
    }
   ],
   "source": [
    "(12/4) + (2*3) - 1 # divide 12 by 4 then add the product of 2 and 3 and finally subtract 1"
   ]
  },
  {
   "cell_type": "code",
   "execution_count": 13,
   "metadata": {},
   "outputs": [
    {
     "data": {
      "text/plain": [
       "8"
      ]
     },
     "execution_count": 13,
     "metadata": {},
     "output_type": "execute_result"
    }
   ],
   "source": [
    "12/4+2*3-1 # due to operator precedence this expression evaluates identically to the parenthesized expression above"
   ]
  },
  {
   "cell_type": "markdown",
   "metadata": {},
   "source": [
    "Operator precedence can be forced using nested parentheses. When our expression has nested parenthesis, i.e., one pair of parentheses inside another pair, the expression inside the inner-most pair of parentheses is evaluated first.\n",
    "\n",
    "The following cell evaluates the mathematical expression:\n",
    "\n",
    "$$\\frac{12}{4+2} (3-1)$$"
   ]
  },
  {
   "cell_type": "code",
   "execution_count": 14,
   "metadata": {},
   "outputs": [
    {
     "data": {
      "text/plain": [
       "4"
      ]
     },
     "execution_count": 14,
     "metadata": {},
     "output_type": "execute_result"
    }
   ],
   "source": [
    "(12/(4+2)) * (3-1)  # divide 12 by the sum of 4 and 2 and multiply the result by the difference of 3 and 1"
   ]
  },
  {
   "cell_type": "markdown",
   "metadata": {},
   "source": [
    "## You try\n",
    "\n",
    "Try writing an expression which will subtract 3 from 5 and then raise the result to the power of 3."
   ]
  },
  {
   "cell_type": "code",
   "execution_count": null,
   "metadata": {
    "collapsed": true
   },
   "outputs": [],
   "source": []
  },
  {
   "cell_type": "markdown",
   "metadata": {},
   "source": [
    "Find out for yourself what we mean by the precedence for exponentiation (^) being from right to left:  \n",
    "\n",
    "- What do you think the expression `3^3^2` would evaluate to?  \n",
    "  - Is it the same as  `(3^3)^2`, i.e., `27` squared, or  \n",
    "  - `3^(3^2)`, i.e., `3` raised to the power `9`?  \n",
    "\n",
    "Try typing in the different expressions to find out:"
   ]
  },
  {
   "cell_type": "code",
   "execution_count": null,
   "metadata": {
    "collapsed": true
   },
   "outputs": [],
   "source": []
  },
  {
   "cell_type": "code",
   "execution_count": null,
   "metadata": {
    "collapsed": true
   },
   "outputs": [],
   "source": []
  },
  {
   "cell_type": "markdown",
   "metadata": {},
   "source": [
    "Find an expression which will add the squares of four numbers together and then divide that sum of squares by 4."
   ]
  },
  {
   "cell_type": "code",
   "execution_count": null,
   "metadata": {
    "collapsed": true
   },
   "outputs": [],
   "source": []
  },
  {
   "cell_type": "markdown",
   "metadata": {},
   "source": [
    "Find what the precedence is for the modulus operator `%` that we discussed above:  try looking at the difference between the results for `10%2^2` and `10%2*2` (or `10^2+2`).  Can you see how SageMath is interpreting your expressions? \n",
    "\n",
    "Note that when you have two operators at the same precedence level (like `%` and `*`), then what matters is the order - left to right or right to left.  You will see this when you evaluate `10%2*2`."
   ]
  },
  {
   "cell_type": "code",
   "execution_count": null,
   "metadata": {
    "collapsed": true
   },
   "outputs": [],
   "source": []
  },
  {
   "cell_type": "code",
   "execution_count": null,
   "metadata": {
    "collapsed": true
   },
   "outputs": [],
   "source": []
  },
  {
   "cell_type": "markdown",
   "metadata": {},
   "source": [
    "Does putting spaces in your expression make any difference?"
   ]
  },
  {
   "cell_type": "code",
   "execution_count": null,
   "metadata": {
    "collapsed": true
   },
   "outputs": [],
   "source": []
  },
  {
   "cell_type": "markdown",
   "metadata": {},
   "source": [
    "Using parenthesis or white spaces can improve readability a lot! So be generous with them to evaluate the following expression:\n",
    "\n",
    "$$10^2 + 2^8 -4$$"
   ]
  },
  {
   "cell_type": "code",
   "execution_count": 15,
   "metadata": {},
   "outputs": [
    {
     "data": {
      "text/plain": [
       "352"
      ]
     },
     "execution_count": 15,
     "metadata": {},
     "output_type": "execute_result"
    }
   ],
   "source": [
    "10^2+2^8-4"
   ]
  },
  {
   "cell_type": "code",
   "execution_count": 16,
   "metadata": {},
   "outputs": [
    {
     "data": {
      "text/plain": [
       "352"
      ]
     },
     "execution_count": 16,
     "metadata": {},
     "output_type": "execute_result"
    }
   ],
   "source": [
    "10^2 + 2^8 -4"
   ]
  },
  {
   "cell_type": "code",
   "execution_count": 17,
   "metadata": {},
   "outputs": [
    {
     "data": {
      "text/plain": [
       "352"
      ]
     },
     "execution_count": 17,
     "metadata": {},
     "output_type": "execute_result"
    }
   ],
   "source": [
    "(((10^2) + (2^8)) - 4)  # this may be overkill!"
   ]
  },
  {
   "cell_type": "markdown",
   "metadata": {},
   "source": [
    "The lesson to learn is that it is always good to use the parentheses:  you will make it clear to someone reading your code what you mean to happen as well as making sure that the computer actually does what you mean it to!\n",
    "\n",
    "Try this 10 minutes-long videos to get some practice if you are really rusty with order of operations:\n",
    "\n",
    "* [Khan Academy Order of operations - https://www.youtube.com/watch?v=ClYdw4d4OmA](https://www.youtube.com/watch?v=ClYdw4d4OmA)\n"
   ]
  },
  {
   "cell_type": "markdown",
   "metadata": {},
   "source": [
    "### Example 3: Rational Arithmetic\n",
    "\n",
    "So far we have been dealing with integers. Integers are a type in SAGE.  Algebraically speaking, integers, rational numbers and real numbers form a *ring*.  This is something you will learn in detail in a maths course in Group Theory or Abstract Algebra, but let's take a quick peek at the definition of a ring."
   ]
  },
  {
   "cell_type": "code",
   "execution_count": 110,
   "metadata": {},
   "outputs": [
    {
     "data": {
      "text/html": [
       "\n",
       "        <iframe\n",
       "            width=\"95%\"\n",
       "            height=\"400\"\n",
       "            src=\"https://en.wikipedia.org/wiki/Ring_(mathematics)#Definition_and_illustration\"\n",
       "            frameborder=\"0\"\n",
       "            allowfullscreen\n",
       "        ></iframe>\n",
       "        "
      ],
      "text/plain": [
       "<IPython.lib.display.IFrame object at 0x7f298cf2d790>"
      ]
     },
     "execution_count": 110,
     "metadata": {},
     "output_type": "execute_result"
    }
   ],
   "source": [
    "showURL(\"https://en.wikipedia.org/wiki/Ring_(mathematics)#Definition_and_illustration\",400)"
   ]
  },
  {
   "cell_type": "code",
   "execution_count": 19,
   "metadata": {},
   "outputs": [
    {
     "data": {
      "text/plain": [
       "<type 'sage.rings.integer.Integer'>"
      ]
     },
     "execution_count": 19,
     "metadata": {},
     "output_type": "execute_result"
    }
   ],
   "source": [
    "type(1) # find the data type of 1"
   ]
  },
  {
   "cell_type": "markdown",
   "metadata": {},
   "source": [
    "The output above tells us that `1` is of type `sage.rings.integer.Integer`."
   ]
  },
  {
   "cell_type": "code",
   "execution_count": 111,
   "metadata": {},
   "outputs": [
    {
     "data": {
      "text/html": [
       "\n",
       "        <iframe\n",
       "            width=\"95%\"\n",
       "            height=\"400\"\n",
       "            src=\"https://en.wikipedia.org/wiki/Integer\"\n",
       "            frameborder=\"0\"\n",
       "            allowfullscreen\n",
       "        ></iframe>\n",
       "        "
      ],
      "text/plain": [
       "<IPython.lib.display.IFrame object at 0x7f298cf2dcd0>"
      ]
     },
     "execution_count": 111,
     "metadata": {},
     "output_type": "execute_result"
    }
   ],
   "source": [
    "showURL(\"https://en.wikipedia.org/wiki/Integer\",400)"
   ]
  },
  {
   "cell_type": "markdown",
   "metadata": {},
   "source": [
    "However, life with only integers denoted by $\\mathbb{Z} := \\{\\ldots,-3,-2,-1,0,1,2,3,\\ldots\\}$ is a bit limited. What about values like $1/2$ or $\\frac{1}{2}$?\n",
    "\n",
    "This brings us to the rational numbers denoted by $\\mathbb{Q}$."
   ]
  },
  {
   "cell_type": "code",
   "execution_count": 112,
   "metadata": {},
   "outputs": [
    {
     "data": {
      "text/html": [
       "\n",
       "        <iframe\n",
       "            width=\"95%\"\n",
       "            height=\"400\"\n",
       "            src=\"https://en.wikipedia.org/wiki/Rational_number\"\n",
       "            frameborder=\"0\"\n",
       "            allowfullscreen\n",
       "        ></iframe>\n",
       "        "
      ],
      "text/plain": [
       "<IPython.lib.display.IFrame object at 0x7f298cf2da10>"
      ]
     },
     "execution_count": 112,
     "metadata": {},
     "output_type": "execute_result"
    }
   ],
   "source": [
    "showURL(\"https://en.wikipedia.org/wiki/Rational_number\",400)"
   ]
  },
  {
   "cell_type": "code",
   "execution_count": 22,
   "metadata": {},
   "outputs": [
    {
     "data": {
      "text/plain": [
       "<type 'sage.rings.rational.Rational'>"
      ]
     },
     "execution_count": 22,
     "metadata": {},
     "output_type": "execute_result"
    }
   ],
   "source": [
    "type(1/2) # data type of 1/2 is a sage.rings.rational.Rational"
   ]
  },
  {
   "cell_type": "markdown",
   "metadata": {},
   "source": [
    "Try evaluating the cell containing `1/2 + 2` below.  "
   ]
  },
  {
   "cell_type": "code",
   "execution_count": 23,
   "metadata": {},
   "outputs": [
    {
     "data": {
      "text/plain": [
       "5/2"
      ]
     },
     "execution_count": 23,
     "metadata": {},
     "output_type": "execute_result"
    }
   ],
   "source": [
    "1/2 + 2 # add one half to 2 or four halves to obtain the rational number 5/2 or five halves"
   ]
  },
  {
   "cell_type": "markdown",
   "metadata": {},
   "source": [
    "SageMath seems to have done rational arithmetic for us when evaluating the above expression. \n",
    "\n",
    "Next, modify the expression in the cell below and evaluate it again.  Try `1/3+2/4`, for instance."
   ]
  },
  {
   "cell_type": "code",
   "execution_count": 24,
   "metadata": {},
   "outputs": [
    {
     "data": {
      "text/plain": [
       "5/6"
      ]
     },
     "execution_count": 24,
     "metadata": {},
     "output_type": "execute_result"
    }
   ],
   "source": [
    "1/2 + 1/3"
   ]
  },
  {
   "cell_type": "markdown",
   "metadata": {},
   "source": [
    "You can do arithmetic with rationals just as we did with integers."
   ]
  },
  {
   "cell_type": "code",
   "execution_count": 25,
   "metadata": {},
   "outputs": [
    {
     "data": {
      "text/plain": [
       "1/2"
      ]
     },
     "execution_count": 25,
     "metadata": {},
     "output_type": "execute_result"
    }
   ],
   "source": [
    "3/4 - 1/4 # subtracting 3/4 from 1/4"
   ]
  },
  {
   "cell_type": "code",
   "execution_count": 26,
   "metadata": {},
   "outputs": [
    {
     "data": {
      "text/plain": [
       "1/4"
      ]
     },
     "execution_count": 26,
     "metadata": {},
     "output_type": "execute_result"
    }
   ],
   "source": [
    "1/2 * 1/2 # multiplying 1/2 by 1/2"
   ]
  },
  {
   "cell_type": "code",
   "execution_count": 27,
   "metadata": {},
   "outputs": [
    {
     "data": {
      "text/plain": [
       "2"
      ]
     },
     "execution_count": 27,
     "metadata": {},
     "output_type": "execute_result"
    }
   ],
   "source": [
    "(2/5) / (1/5) # dividing 2/5 by 1/5"
   ]
  },
  {
   "cell_type": "code",
   "execution_count": 28,
   "metadata": {},
   "outputs": [
    {
     "data": {
      "text/plain": [
       "1/8"
      ]
     },
     "execution_count": 28,
     "metadata": {},
     "output_type": "execute_result"
    }
   ],
   "source": [
    "(1/2)^3 # exponentiating 1/2 by 3, i.e., raising 1/2 to the third power"
   ]
  },
  {
   "cell_type": "markdown",
   "metadata": {},
   "source": [
    "### You try\n",
    "\n",
    "Write an expression which evaluates to `1` using the rationals `1/3` and `1/12`, some integers, and some of the arithmetical operators - there are lots of different expressions you can choose, just try a few."
   ]
  },
  {
   "cell_type": "code",
   "execution_count": null,
   "metadata": {},
   "outputs": [],
   "source": []
  },
  {
   "cell_type": "markdown",
   "metadata": {},
   "source": [
    "What does SageMath do with something like `1/1/5`?  Can you see how this is being interpreted?  What should we do if we really want to evaluate `1` divided by `1/5`?"
   ]
  },
  {
   "cell_type": "code",
   "execution_count": null,
   "metadata": {
    "collapsed": true
   },
   "outputs": [],
   "source": []
  },
  {
   "cell_type": "markdown",
   "metadata": {},
   "source": [
    "Try adding some rationals and some integers together - what type is the result?"
   ]
  },
  {
   "cell_type": "markdown",
   "metadata": {},
   "source": [
    "## Example 4: Real Arithmetic (multi-precision floating-point arithmetic)\n",
    "\n",
    "Recall that real numbers denoted by $\\mathbb{R}$ include natural numbers ($\\mathbb{N}$), integers ($\\mathbb{Z}$), rational numbers ($\\mathbb{Q}$) and various types of irrational numbers like:\n",
    "\n",
    "- the square root of 2 or $\\sqrt{2}$\n",
    "- [Pi](https://en.wikipedia.org/wiki/Pi) or $\\pi$ and \n",
    "- <a href=\"https://en.wikipedia.org/wiki/E_(mathematical_constant)\">Euler's number</a> $e$ and \n",
    "- [Euler–Mascheroni constant](https://en.wikipedia.org/wiki/Euler%E2%80%93Mascheroni_constant) $\\gamma$.  \n",
    "\n",
    "<img src=\"https://upload.wikimedia.org/wikipedia/commons/thumb/1/17/Number-systems.svg/440px-Number-systems.svg.png\">\n",
    "\n",
    "Real numbers can be thought of as all the numbers in the real line between negative infinity and positive infinity.  Real numbers are represented in decimal format, for e.g. 234.4677878. \n",
    "\n",
    "<img src=\"https://upload.wikimedia.org/wikipedia/commons/thumb/d/d7/Real_number_line.svg/700px-Real_number_line.svg.png\">"
   ]
  },
  {
   "cell_type": "code",
   "execution_count": 104,
   "metadata": {},
   "outputs": [
    {
     "data": {
      "text/html": [
       "\n",
       "        <iframe\n",
       "            width=\"95%\"\n",
       "            height=\"400\"\n",
       "            src=\"https://en.wikipedia.org/wiki/Real_number#Definition\"\n",
       "            frameborder=\"0\"\n",
       "            allowfullscreen\n",
       "        ></iframe>\n",
       "        "
      ],
      "text/plain": [
       "<IPython.lib.display.IFrame object at 0x7f29946b3bd0>"
      ]
     },
     "execution_count": 104,
     "metadata": {},
     "output_type": "execute_result"
    }
   ],
   "source": [
    "showURL(\"https://en.wikipedia.org/wiki/Real_number#Definition\",400)"
   ]
  },
  {
   "cell_type": "markdown",
   "metadata": {},
   "source": [
    "We cannot do exact real arithmetic (but do it aproximately) in a computer with [http://www.mpfr.org/](http://www.mpfr.org/)'s multiprecision [floating-point numbers](http://en.wikipedia.org/wiki/Floating_point), and can combine them with integer and rational types in SageMath.  \n",
    "\n",
    "*Technical note:* Computers can be made to exactly compute in integer and rational arithmetic. But, because computers with finite memory (all computers today!) cannot represent the [uncountably infinitely many real numbers](http://en.wikipedia.org/wiki/Cantor%27s_diagonal_argument), they can only mimic or approximate arithmetic over real numbers using finitely many computer-representable floating-point numbers.\n",
    "\n",
    "Let's take a peak at *von Neumann architecture* of any typical computer today. \n",
    "\n",
    "<img src=\"https://upload.wikimedia.org/wikipedia/commons/e/e5/Von_Neumann_Architecture.svg\" alt=\"Von_Neumann_Architecture.svg\">\n",
    "\n",
    "The punch-line is that the *Memory unit* or *Random Access Memory (RAM)* inside the Central Processing Unit as well as *Input* and *Output Devices* are physical with finite memory. Therefore we cannot exactly represent all the uncontably infinitely many real numbers in $\\mathbb{R}$ and need to resort to their approximation using *floating point* numbers."
   ]
  },
  {
   "cell_type": "code",
   "execution_count": 106,
   "metadata": {},
   "outputs": [
    {
     "data": {
      "text/html": [
       "\n",
       "        <iframe\n",
       "            width=\"95%\"\n",
       "            height=\"400\"\n",
       "            src=\"https://en.wikipedia.org/wiki/Von_Neumann_architecture\"\n",
       "            frameborder=\"0\"\n",
       "            allowfullscreen\n",
       "        ></iframe>\n",
       "        "
      ],
      "text/plain": [
       "<IPython.lib.display.IFrame object at 0x7f299460f1d0>"
      ]
     },
     "execution_count": 106,
     "metadata": {},
     "output_type": "execute_result"
    }
   ],
   "source": [
    "showURL(\"https://en.wikipedia.org/wiki/Von_Neumann_architecture\",400)"
   ]
  },
  {
   "cell_type": "markdown",
   "metadata": {},
   "source": [
    "See [SageMath Quick Start on Numerical Analysis](http://doc.sagemath.org/html/en/prep/Quickstarts/NumAnalysis.html) to understand SageMath's multiprecision real arithmetic.\n",
    "\n",
    "For now, let's compare the results of evaluating the expressions below to the equivalent expressions using rational numbers above."
   ]
  },
  {
   "cell_type": "code",
   "execution_count": 30,
   "metadata": {},
   "outputs": [
    {
     "data": {
      "text/plain": [
       "<type 'sage.rings.real_mpfr.RealLiteral'>"
      ]
     },
     "execution_count": 30,
     "metadata": {},
     "output_type": "execute_result"
    }
   ],
   "source": [
    "type(0.5) # data type of 0.5 is a sage.rings.real_mpfr.RealLiteral"
   ]
  },
  {
   "cell_type": "code",
   "execution_count": 7,
   "metadata": {},
   "outputs": [
    {
     "data": {
      "text/plain": [
       "Real Field with 53 bits of precision"
      ]
     },
     "execution_count": 7,
     "metadata": {},
     "output_type": "execute_result"
    }
   ],
   "source": [
    "RR # Real Field with the default 53 bits of precision"
   ]
  },
  {
   "cell_type": "code",
   "execution_count": 32,
   "metadata": {},
   "outputs": [
    {
     "data": {
      "text/plain": [
       "0.500000000000000"
      ]
     },
     "execution_count": 32,
     "metadata": {},
     "output_type": "execute_result"
    }
   ],
   "source": [
    "RR(0.5)  # RR(0.5) is the same as 0.5 in SageMath"
   ]
  },
  {
   "cell_type": "code",
   "execution_count": 8,
   "metadata": {},
   "outputs": [
    {
     "data": {
      "text/plain": [
       "<type 'sage.rings.real_mpfr.RealLiteral'>"
      ]
     },
     "execution_count": 8,
     "metadata": {},
     "output_type": "execute_result"
    }
   ],
   "source": [
    "type(RR(0.5)) # RR(0.5) is the same type as 0.5 from before"
   ]
  },
  {
   "cell_type": "code",
   "execution_count": 22,
   "metadata": {},
   "outputs": [],
   "source": [
    "??RR"
   ]
  },
  {
   "cell_type": "code",
   "execution_count": 33,
   "metadata": {},
   "outputs": [
    {
     "data": {
      "text/plain": [
       "2.50000000000000"
      ]
     },
     "execution_count": 33,
     "metadata": {},
     "output_type": "execute_result"
    }
   ],
   "source": [
    "0.5 + 2 # one half as 0.5 is being added to 2 to obtain the real number 2.500..0 in SageMath"
   ]
  },
  {
   "cell_type": "code",
   "execution_count": 34,
   "metadata": {},
   "outputs": [
    {
     "data": {
      "text/plain": [
       "0.500000000000000"
      ]
     },
     "execution_count": 34,
     "metadata": {},
     "output_type": "execute_result"
    }
   ],
   "source": [
    "0.75 - 0.25 # subtracting 0.75 from 0.25 is the same as subtracting 0.75 from 1/4"
   ]
  },
  {
   "cell_type": "code",
   "execution_count": 35,
   "metadata": {},
   "outputs": [
    {
     "data": {
      "text/plain": [
       "0.250000000000000"
      ]
     },
     "execution_count": 35,
     "metadata": {},
     "output_type": "execute_result"
    }
   ],
   "source": [
    "0.5 * 0.5 # multiplying 0.5 by 0.5 is the same as 1/2 * 1/2"
   ]
  },
  {
   "cell_type": "code",
   "execution_count": 36,
   "metadata": {},
   "outputs": [
    {
     "data": {
      "text/plain": [
       "2.00000000000000"
      ]
     },
     "execution_count": 36,
     "metadata": {},
     "output_type": "execute_result"
    }
   ],
   "source": [
    "(2 / 5.0) / 0.2 # dividing 2/5. by 0.2 is the same as (2/5) / (1/5)"
   ]
  },
  {
   "cell_type": "code",
   "execution_count": 37,
   "metadata": {},
   "outputs": [
    {
     "data": {
      "text/plain": [
       "0.125000000000000"
      ]
     },
     "execution_count": 37,
     "metadata": {},
     "output_type": "execute_result"
    }
   ],
   "source": [
    "0.5^3.0 # exponentiating 0.5 by 3.0 is the same as (1/2)^3"
   ]
  },
  {
   "cell_type": "markdown",
   "metadata": {},
   "source": [
    "### You try\n",
    "\n",
    "Find the type of `1/2`."
   ]
  },
  {
   "cell_type": "code",
   "execution_count": null,
   "metadata": {
    "collapsed": true
   },
   "outputs": [],
   "source": []
  },
  {
   "cell_type": "markdown",
   "metadata": {},
   "source": [
    "Try a few different ways of getting the same result as typing  `((((1/5) / (1/10)) * (0.1 * 2/5) + 4/100))*5/(3/5)` - this exact expression has already been put in for you in the cell below you could try something just using floating point numbers.  Then see how important the parentheses are around rationals when you have an expression like this - try taking some of the parenthesis out and just play with complex expressions like these to get familiar."
   ]
  },
  {
   "cell_type": "code",
   "execution_count": 38,
   "metadata": {},
   "outputs": [
    {
     "data": {
      "text/plain": [
       "1.00000000000000"
      ]
     },
     "execution_count": 38,
     "metadata": {},
     "output_type": "execute_result"
    }
   ],
   "source": [
    "((((1/5) / (1/10)) * (0.1 * 2/5) + 4/100))*5/(3/5)"
   ]
  },
  {
   "cell_type": "code",
   "execution_count": 39,
   "metadata": {},
   "outputs": [
    {
     "data": {
      "text/plain": [
       "1"
      ]
     },
     "execution_count": 39,
     "metadata": {},
     "output_type": "execute_result"
    }
   ],
   "source": [
    "((((1/5) / (1/10)) * (1/10 * 2/5) + 4/100))*5/(3/5)"
   ]
  },
  {
   "cell_type": "code",
   "execution_count": null,
   "metadata": {
    "collapsed": true
   },
   "outputs": [],
   "source": []
  },
  {
   "cell_type": "code",
   "execution_count": null,
   "metadata": {
    "collapsed": true
   },
   "outputs": [],
   "source": []
  },
  {
   "cell_type": "markdown",
   "metadata": {},
   "source": [
    "## Example 5: Variables and assignments of numbers and expressions\n",
    "\n",
    "Loosely speaking one can think of a *variable* as a way of referring to a memory location used by a computer program. A variable is a symbolic name for this physical location. This memory location contains values, like numbers, text or more complicated types and crucially *what is contained in a variable can change* based on operations we do to it.\n",
    "\n",
    "In SageMath, the symbol `=` is the *assignment operator*.  You can assign a numerical value to a *variable* in SageMath using the assignment operator.  This is a good way to store values you want to use or modify later.  \n",
    "\n",
    "(If you have programmed before using a a language like C or C++ or Java, you'll see that SageMath is a bit different because in SageMath you don't have to say what type of value is going to be assigned to the variable.)\n",
    "\n",
    "Feel free to take a deeper dive into <a href=\"https://en.wikipedia.org/wiki/Assignment_(computer_science)\">the computer science concept of assignment</a>."
   ]
  },
  {
   "cell_type": "code",
   "execution_count": 40,
   "metadata": {},
   "outputs": [],
   "source": [
    "a = 1    # assign 1 to a variable named a"
   ]
  },
  {
   "cell_type": "code",
   "execution_count": 41,
   "metadata": {},
   "outputs": [
    {
     "data": {
      "text/plain": [
       "1"
      ]
     },
     "execution_count": 41,
     "metadata": {},
     "output_type": "execute_result"
    }
   ],
   "source": [
    "a        # disclose a  - you need to explicitly do this!"
   ]
  },
  {
   "cell_type": "markdown",
   "metadata": {},
   "source": [
    "Just typing the name of a variable to get the value works in the SageMath Notebook, but if you are writing a program and you want to output the value of a variable, you'll probably want to use something like the print command."
   ]
  },
  {
   "cell_type": "code",
   "execution_count": 42,
   "metadata": {},
   "outputs": [
    {
     "name": "stdout",
     "output_type": "stream",
     "text": [
      "1\n"
     ]
    }
   ],
   "source": [
    "print(a)"
   ]
  },
  {
   "cell_type": "code",
   "execution_count": 43,
   "metadata": {},
   "outputs": [
    {
     "name": "stdout",
     "output_type": "stream",
     "text": [
      "1 2 3\n"
     ]
    }
   ],
   "source": [
    "b = 2\n",
    "c = 3\n",
    "print a, b, c  # print out the values of a and b and c"
   ]
  },
  {
   "cell_type": "code",
   "execution_count": 44,
   "metadata": {},
   "outputs": [
    {
     "data": {
      "text/plain": [
       "sqrt(2)"
      ]
     },
     "execution_count": 44,
     "metadata": {},
     "output_type": "execute_result"
    }
   ],
   "source": [
    "x=2^(1/2)\n",
    "x"
   ]
  },
  {
   "cell_type": "code",
   "execution_count": 45,
   "metadata": {},
   "outputs": [
    {
     "data": {
      "text/plain": [
       "<type 'sage.symbolic.expression.Expression'>"
      ]
     },
     "execution_count": 45,
     "metadata": {},
     "output_type": "execute_result"
    }
   ],
   "source": [
    "type(x)   # x is a sage symbolic expression"
   ]
  },
  {
   "cell_type": "markdown",
   "metadata": {},
   "source": [
    "Many of the commands in SageMath/Python are \"methods\" of objects.\n",
    "\n",
    "That is, we access them by typing:\n",
    "\n",
    "- the name of the mathematical object,\n",
    "- a dot/period,\n",
    "- the name of the method, and\n",
    "- parentheses (possibly with an argument).\n",
    "\n",
    "This is a huge advantage, once you get familiar with it, because it allows you to do only the things that are possible, and all such things. See [SageMath programming guide for more details on this](http://doc.sagemath.org/html/en/prep/Programming.html#methods-and-dot-notation).\n",
    "\n",
    "Let's try to hit the Tab button after the `.` following `x` below to view all available methods for `x` which is currently `sqrt(2)`."
   ]
  },
  {
   "cell_type": "code",
   "execution_count": null,
   "metadata": {},
   "outputs": [],
   "source": [
    "x.  #  hit the Tab button after the '.' following 'x' "
   ]
  },
  {
   "cell_type": "code",
   "execution_count": null,
   "metadata": {},
   "outputs": [],
   "source": [
    "help(x.n)\n",
    "# we can use ? after a method to get breif help"
   ]
  },
  {
   "cell_type": "code",
   "execution_count": 46,
   "metadata": {},
   "outputs": [
    {
     "data": {
      "text/plain": [
       "1.414213562"
      ]
     },
     "execution_count": 46,
     "metadata": {},
     "output_type": "execute_result"
    }
   ],
   "source": [
    "x.n(digits=10) # this gives a numerical approximation for x"
   ]
  },
  {
   "cell_type": "code",
   "execution_count": 47,
   "metadata": {},
   "outputs": [
    {
     "name": "stdout",
     "output_type": "stream",
     "text": [
      "6\n"
     ]
    }
   ],
   "source": [
    "s = 1; t = 2; u = 3;\n",
    "print s + t + u"
   ]
  },
  {
   "cell_type": "code",
   "execution_count": 48,
   "metadata": {},
   "outputs": [
    {
     "data": {
      "text/plain": [
       "23"
      ]
     },
     "execution_count": 48,
     "metadata": {},
     "output_type": "execute_result"
    }
   ],
   "source": [
    "f=(5-3)^(6/2)+3*(7-2) # assign the expression to f\n",
    "f # disclose f"
   ]
  },
  {
   "cell_type": "code",
   "execution_count": 49,
   "metadata": {},
   "outputs": [
    {
     "data": {
      "text/plain": [
       "<type 'sage.rings.integer.Integer'>"
      ]
     },
     "execution_count": 49,
     "metadata": {},
     "output_type": "execute_result"
    }
   ],
   "source": [
    "type(f)"
   ]
  },
  {
   "cell_type": "markdown",
   "metadata": {},
   "source": [
    "### You try\n",
    "\n",
    "Try assigning some values to some variables - you choose what values and you choose what variable names to use.  See if you can print out the values you have assigned. "
   ]
  },
  {
   "cell_type": "code",
   "execution_count": null,
   "metadata": {
    "collapsed": true
   },
   "outputs": [],
   "source": []
  },
  {
   "cell_type": "code",
   "execution_count": null,
   "metadata": {
    "collapsed": true
   },
   "outputs": [],
   "source": []
  },
  {
   "cell_type": "markdown",
   "metadata": {},
   "source": [
    "You can reassign different values to variable names.  Using SageMath you can also change the type of the values assigned to the variable (not all programming languages allow you to do this)."
   ]
  },
  {
   "cell_type": "code",
   "execution_count": 50,
   "metadata": {},
   "outputs": [
    {
     "name": "stdout",
     "output_type": "stream",
     "text": [
      "Right now, a = 1 and is of type <type 'sage.rings.integer.Integer'>\n",
      "Now, a = 1/3 and is of type <type 'sage.rings.rational.Rational'>\n"
     ]
    }
   ],
   "source": [
    "a = 1\n",
    "print \"Right now, a =\", a, \"and is of type\", type(a) # using , and strings in double quotes print can be more flexible\n",
    "\n",
    "a = 1/3 # reassign 1/3 to the variable a\n",
    "print \"Now, a =\", a, \"and is of type\", type(a) # note the change in type"
   ]
  },
  {
   "cell_type": "markdown",
   "metadata": {},
   "source": [
    "### You try\n",
    "\n",
    "Assign the value `2` to a variable named `x`.\n",
    "\n",
    "On the next line down in the same cell, assign the value `3` to a variable named `y`.\n",
    "\n",
    "Then (on a third line)  put in an expression which will evaluate `x + y`"
   ]
  },
  {
   "cell_type": "code",
   "execution_count": null,
   "metadata": {
    "collapsed": true
   },
   "outputs": [],
   "source": []
  },
  {
   "cell_type": "markdown",
   "metadata": {},
   "source": [
    "Now try reassigning a different value to x and re-evaluating x + y"
   ]
  },
  {
   "cell_type": "code",
   "execution_count": null,
   "metadata": {
    "collapsed": true
   },
   "outputs": [],
   "source": []
  },
  {
   "cell_type": "markdown",
   "metadata": {},
   "source": [
    "## Example 6: Strings\n",
    "\n",
    "Variables can be strings (an not just numbers).  Anything you put inside quote marks will be treated as a string by SageMath/Python.\n",
    "\n",
    "Strings as `str` and `unicode` are built-in [sequence types](https://docs.python.org/2/library/stdtypes.html#sequence-types-str-unicode-list-tuple-bytearray-buffer-xrange) for storing strings of bytes and unicode-encoded characters and and operating over them."
   ]
  },
  {
   "cell_type": "code",
   "execution_count": 53,
   "metadata": {},
   "outputs": [
    {
     "data": {
      "text/plain": [
       "'this is a string'"
      ]
     },
     "execution_count": 53,
     "metadata": {},
     "output_type": "execute_result"
    }
   ],
   "source": [
    "myStr = \"this is a string\"   # assign a string to the variable myStr\n",
    "myStr                        # disclose myStr"
   ]
  },
  {
   "cell_type": "code",
   "execution_count": 54,
   "metadata": {},
   "outputs": [
    {
     "data": {
      "text/plain": [
       "<type 'str'>"
      ]
     },
     "execution_count": 54,
     "metadata": {},
     "output_type": "execute_result"
    }
   ],
   "source": [
    "type(myStr)                  # check the type for myStr"
   ]
  },
  {
   "cell_type": "markdown",
   "metadata": {},
   "source": [
    "You can also create a string by enclosing them in single quotes or three consecutive single quotes. In SageMath/Python a character (represented by the `char` type in languages like C/C++/Scala) is just a string made up of one character."
   ]
  },
  {
   "cell_type": "code",
   "execution_count": 55,
   "metadata": {},
   "outputs": [
    {
     "data": {
      "text/plain": [
       "'this is a string'"
      ]
     },
     "execution_count": 55,
     "metadata": {},
     "output_type": "execute_result"
    }
   ],
   "source": [
    "myStr = 'this is a string'   # assign a string to the variable myStr using single quotes\n",
    "myStr                        # disclose myStr"
   ]
  },
  {
   "cell_type": "markdown",
   "metadata": {},
   "source": [
    "You can assign values to more than one variable on the same line, by separating the assignment expressions with a semicolon `;`.  However, it is usually best not to do this because it will make your code easier to read (it is hard to spot the other assignments on a single line after the first one)."
   ]
  },
  {
   "cell_type": "code",
   "execution_count": 56,
   "metadata": {},
   "outputs": [
    {
     "data": {
      "text/plain": [
       "'this is a string'"
      ]
     },
     "execution_count": 56,
     "metadata": {},
     "output_type": "execute_result"
    }
   ],
   "source": [
    "myStr = '''this is a string'''   # assign a string to the variable myStr using three consecutive single quotes\n",
    "myStr                            # disclose myStr"
   ]
  },
  {
   "cell_type": "markdown",
   "metadata": {},
   "source": [
    "Using triple single quotes is especially useful if your string has single or double quotes within it. Triple quotes are often used to create `DocString` to document code in Pyhton/SageMath. "
   ]
  },
  {
   "cell_type": "code",
   "execution_count": 57,
   "metadata": {},
   "outputs": [
    {
     "data": {
      "text/plain": [
       "'this string has \"a double quoted sub-string\" and some escaped characters: \\\\,\\', - all OK!'"
      ]
     },
     "execution_count": 57,
     "metadata": {},
     "output_type": "execute_result"
    }
   ],
   "source": [
    "myStrContainingQuotes = '''this string has \"a double quoted sub-string\" and some escaped characters: \\,', - all OK!'''\n",
    "myStrContainingQuotes"
   ]
  },
  {
   "cell_type": "markdown",
   "metadata": {},
   "source": [
    "### Str and unicode Strings\n",
    "\n",
    "In Python/SageMath, we need to be extremely careful with strings.\n",
    "The type 'str' is actually a sequence of bytes while the unicode string of type `unicode` is a sequence of unicode characters (some of which can be more than a byte in size). See [this](http://pgbovine.net/unicode-python.htm) for an nice clarification of ASCII and unicode (utf-8) encoded strings. \n",
    "So, it is a good habit to convert strings from natural languages that are meant for processing into unicode strings using the `decode(utf-8)` method right away."
   ]
  },
  {
   "cell_type": "code",
   "execution_count": 58,
   "metadata": {},
   "outputs": [
    {
     "data": {
      "text/plain": [
       "<type 'str'>"
      ]
     },
     "execution_count": 58,
     "metadata": {},
     "output_type": "execute_result"
    }
   ],
   "source": [
    "x = 'hi猫' # this is hi (each letter is encoded by one byte) followed by the Chinese character for cat (3 bytes)\n",
    "type(x)  # x is of type str = sequence of bytes in Python2 / SageMath"
   ]
  },
  {
   "cell_type": "code",
   "execution_count": 59,
   "metadata": {},
   "outputs": [
    {
     "data": {
      "text/plain": [
       "5"
      ]
     },
     "execution_count": 59,
     "metadata": {},
     "output_type": "execute_result"
    }
   ],
   "source": [
    "len(x) # this is a sequence of five hexadecimal numbers each requiring a byte to represent"
   ]
  },
  {
   "cell_type": "markdown",
   "metadata": {},
   "source": [
    "Disclosing `x` below only shows the hexa-decimal numbers `68` `69` `e7` `8c` `ab`, \n",
    "but only `h` for `68` and `i` for `69` from [ASCII table](http://www.asciitable.com/), are displayed as characters here,\n",
    "while `\\xe7\\x8c\\xab` are shown as hexadecimal numbers with prefix `\\x` \n",
    "instead of the Chinese character for cat: 猫"
   ]
  },
  {
   "cell_type": "code",
   "execution_count": 60,
   "metadata": {},
   "outputs": [
    {
     "data": {
      "text/plain": [
       "'hi\\xe7\\x8c\\xab'"
      ]
     },
     "execution_count": 60,
     "metadata": {},
     "output_type": "execute_result"
    }
   ],
   "source": [
    "x    "
   ]
  },
  {
   "cell_type": "code",
   "execution_count": 61,
   "metadata": {},
   "outputs": [
    {
     "name": "stdout",
     "output_type": "stream",
     "text": [
      "hi猫\n"
     ]
    }
   ],
   "source": [
    "print(x) # printing a string displays the desired if the display is unicode-compatible"
   ]
  },
  {
   "cell_type": "markdown",
   "metadata": {},
   "source": [
    "Generally it is safe  to convert strings from natural languages to unicode in Python/SageMath."
   ]
  },
  {
   "cell_type": "code",
   "execution_count": 62,
   "metadata": {},
   "outputs": [
    {
     "data": {
      "text/plain": [
       "<type 'unicode'>"
      ]
     },
     "execution_count": 62,
     "metadata": {},
     "output_type": "execute_result"
    }
   ],
   "source": [
    "y = x.decode('utf-8') # this decodes or converts the sequence of bytes to a sequence of unicode characters\n",
    "type(y)               # the type of y now is unicode "
   ]
  },
  {
   "cell_type": "code",
   "execution_count": 63,
   "metadata": {},
   "outputs": [
    {
     "data": {
      "text/plain": [
       "3"
      ]
     },
     "execution_count": 63,
     "metadata": {},
     "output_type": "execute_result"
    }
   ],
   "source": [
    "len(y)  # now we have a sequence of just 3 unicode characters as we want"
   ]
  },
  {
   "cell_type": "markdown",
   "metadata": {},
   "source": [
    "Disclosing `y` shows the two ASCII character `h` and `i` and the Chinese cat character 猫 is specified by the corresponding entry in [utf-8 table](https://en.wikipedia.org/wiki/UTF-8)."
   ]
  },
  {
   "cell_type": "code",
   "execution_count": 64,
   "metadata": {},
   "outputs": [
    {
     "data": {
      "text/plain": [
       "u'hi\\u732b'"
      ]
     },
     "execution_count": 64,
     "metadata": {},
     "output_type": "execute_result"
    }
   ],
   "source": [
    "y   # output prepended by u shows it is a unicode sequence as opposed to a str which is a byte sequence"
   ]
  },
  {
   "cell_type": "code",
   "execution_count": 65,
   "metadata": {},
   "outputs": [
    {
     "name": "stdout",
     "output_type": "stream",
     "text": [
      "hi猫\n"
     ]
    }
   ],
   "source": [
    "print y"
   ]
  },
  {
   "cell_type": "markdown",
   "metadata": {},
   "source": [
    "When programmatically processing sequences of unicode characters it is much safer to work with `repr` for the canonical string representation of the object."
   ]
  },
  {
   "cell_type": "code",
   "execution_count": 66,
   "metadata": {
    "collapsed": true
   },
   "outputs": [],
   "source": [
    "?repr # gives the canonical string representation of the object"
   ]
  },
  {
   "cell_type": "code",
   "execution_count": 67,
   "metadata": {},
   "outputs": [
    {
     "name": "stdout",
     "output_type": "stream",
     "text": [
      "u'hi\\u732b'\n"
     ]
    }
   ],
   "source": [
    "print repr(y)"
   ]
  },
  {
   "cell_type": "code",
   "execution_count": 68,
   "metadata": {},
   "outputs": [
    {
     "name": "stdout",
     "output_type": "stream",
     "text": [
      "u'hi猫'\n"
     ]
    }
   ],
   "source": [
    "print repr(y).decode('unicode_escape')"
   ]
  },
  {
   "cell_type": "markdown",
   "metadata": {},
   "source": [
    "## Pride and Prejudice as unicode\n",
    "\n",
    "We will explore frequencies of strings for the most downloaded book at [Project Gutenberg](http://www.gutenberg.org/ebooks/search/?sort_order=downloads) that publishes public domain books online.\n",
    "Currently, books published before 1923 are in the *public domain* - meaning anyone has the right to copy or use the text in any way. \n",
    "\n",
    "Pride and Prejudice by Jane Austin had the most number of downloads and it's available from \n",
    "\n",
    "- [http://www.gutenberg.org/ebooks/1342](http://www.gutenberg.org/ebooks/1342).\n",
    "\n",
    "A quick exploration allows us to see the utf-encoded text [here](http://www.gutenberg.org/files/1342/1342-0.txt).\n",
    "\n",
    "For now, we will just show how to download the most popular book from the project and display it's contents for processing down the road."
   ]
  },
  {
   "cell_type": "code",
   "execution_count": 23,
   "metadata": {},
   "outputs": [
    {
     "data": {
      "text/plain": [
       "u'\\ufeffThe Project Gutenberg EBook of Pride and Prejudice, by Jane Austen\\r\\n\\r\\nThis eBook is for the use of anyone anywhere at no cost and with\\r\\nalmost no restrictions whatsoever.  You may copy it, give it away or\\r\\nre-use it under the terms of the Project Gutenberg License included\\r\\nwith this eBook or online at www.gutenberg.org\\r\\n\\r\\n\\r\\nTitle: Pride and Prejudice\\r\\n\\r\\nAuthor: Jane Austen\\r\\n\\r\\nPosting Date: August 26, 2008 [EBook #1342]\\r\\nRelease Date: June, 1998\\r\\nLast Updated: March 10, 2018\\r\\n\\r\\nLanguage: English\\r\\n\\r\\nCharacter set encoding: UTF-8\\r\\n\\r\\n*** START OF THIS PROJECT GUTENBERG EBOOK PRIDE AND PREJUDICE ***\\r\\n\\r\\n\\r\\n\\r\\n\\r\\nProduced by Anonymous Volunteers\\r\\n\\r\\n\\r\\n\\r\\n\\r\\n\\r\\nPRIDE AND PREJUDICE\\r\\n\\r\\nBy Jane Austen\\r\\n\\r\\n\\r\\n\\r\\nChapter 1\\r\\n\\r\\n\\r\\nIt is a truth universally acknowledged, that a single man in possession\\r\\nof a good fortune, must be in want of a wife.\\r\\n\\r\\nHowever little known the feelings or views of such a man may be on his\\r\\nfirst entering a neighbourhood, this truth is so well fixed in the minds\\r\\nof the surround'"
      ]
     },
     "execution_count": 23,
     "metadata": {},
     "output_type": "execute_result"
    }
   ],
   "source": [
    "# this downloads the unicode text of the book from the right url we found at the Gutenberg Project\n",
    "# and assigns it to a variable named prideAndPrejudiceRaw\n",
    "from urllib import * \n",
    "prideAndPrejudiceRaw = urlopen('http://www.gutenberg.org/files/1342/1342-0.txt').read().decode('utf-8')\n",
    "prideAndPrejudiceRaw[0:1000] # just showing the first 1000 raw characters of the downloaded book as unicode"
   ]
  },
  {
   "cell_type": "code",
   "execution_count": 24,
   "metadata": {},
   "outputs": [
    {
     "data": {
      "text/plain": [
       "<type 'unicode'>"
      ]
     },
     "execution_count": 24,
     "metadata": {},
     "output_type": "execute_result"
    }
   ],
   "source": [
    "type(prideAndPrejudiceRaw) # this is a sequence of utf-8-encoded characters"
   ]
  },
  {
   "cell_type": "code",
   "execution_count": 25,
   "metadata": {},
   "outputs": [
    {
     "data": {
      "text/plain": [
       "717617"
      ]
     },
     "execution_count": 25,
     "metadata": {},
     "output_type": "execute_result"
    }
   ],
   "source": [
    "len(prideAndPrejudiceRaw) \n",
    "# the length of the unicode string is about 700 thousand unicode characters"
   ]
  },
  {
   "cell_type": "markdown",
   "metadata": {},
   "source": [
    "Next we will show how trivial it is to \"read\" all the chapters into SageMath/Python using these steps:\n",
    "\n",
    "- we use regular expressions via the `re` library to substitue all occurences of white-space characters like one or more consecutive end-of-line, tabs, white space characters, etc with a single white space, \n",
    "- we split by 'Chapter ' into multiple chapters in a list\n",
    "- print the first 100 character in each of the first 10 Chapters\n",
    "\n",
    "(don't worry about the details now - we will revist these in detail later)"
   ]
  },
  {
   "cell_type": "code",
   "execution_count": 72,
   "metadata": {},
   "outputs": [
    {
     "data": {
      "text/plain": [
       "'strBlah'"
      ]
     },
     "execution_count": 72,
     "metadata": {},
     "output_type": "execute_result"
    }
   ],
   "source": [
    "myString = \"strBlah\"\n",
    "myString"
   ]
  },
  {
   "cell_type": "code",
   "execution_count": 73,
   "metadata": {},
   "outputs": [],
   "source": [
    "myString.split?"
   ]
  },
  {
   "cell_type": "code",
   "execution_count": 54,
   "metadata": {},
   "outputs": [
    {
     "name": "stdout",
     "output_type": "stream",
     "text": [
      "u'1 It is a truth universally acknowledged, that a single man in possession of a good fortune, must be' \n",
      "\n",
      "u'2 Mr. Bennet was among the earliest of those who waited on Mr. Bingley. He had always intended to vi' \n",
      "\n",
      "u'3 Not all that Mrs. Bennet, however, with the assistance of her five daughters, could ask on the sub' \n",
      "\n",
      "u'4 When Jane and Elizabeth were alone, the former, who had been cautious in her praise of Mr. Bingley' \n",
      "\n",
      "u'5 Within a short walk of Longbourn lived a family with whom the Bennets were particularly intimate. ' \n",
      "\n",
      "u'6 The ladies of Longbourn soon waited on those of Netherfield. The visit was soon returned in due fo' \n",
      "\n",
      "u\"7 Mr. Bennet's property consisted almost entirely in an estate of two thousand a year, which, unfort\" \n",
      "\n",
      "u\"8 At five o'clock the two ladies retired to dress, and at half-past six Elizabeth was summoned to di\" \n",
      "\n",
      "u\"9 Elizabeth passed the chief of the night in her sister's room, and in the morning had the pleasure \" \n",
      "\n"
     ]
    }
   ],
   "source": [
    "import re \n",
    "# make a list of chapters\n",
    "chapterList = re.sub('\\\\s+', ' ',prideAndPrejudiceRaw).split('Chapter ')[1:10]\n",
    "for chapter in chapterList:\n",
    "    print repr(chapter[0:100]).decode('unicode_escape'), '\\n';"
   ]
  },
  {
   "cell_type": "markdown",
   "metadata": {},
   "source": [
    "As we learn more we will return to this popular book's unicode which is stored in our `data` directory as `data\\pride_and_prejudice.txt`.\n",
    "\n",
    "Let us motivate the Python methods we will see soon by using them below to plot the number of occurences of `he` and `she` in each of the 61 chapters of the book."
   ]
  },
  {
   "cell_type": "code",
   "execution_count": 51,
   "metadata": {},
   "outputs": [],
   "source": [
    "import re \n",
    "heList = []\n",
    "sheList = []\n",
    "i = 0\n",
    "# make a list of chapters\n",
    "chapterList = re.sub('\\\\s+', ' ',prideAndPrejudiceRaw).split('Chapter ')[1:]\n",
    "for chapter in chapterList:\n",
    "    i = i+1 # increment chanpter count\n",
    "    content = (repr(chapter[0:]).decode('unicode_escape')).lower() # get content as lower-case\n",
    "    heCount = content.count('he') # count number of 'he' occurrences in the chapter\n",
    "    sheCount = content.count('she') # count number of 'she' occurrences in the chapter\n",
    "    heList.append((i,heCount)) # append to heList\n",
    "    sheList.append((i,sheCount)) # append to sheList"
   ]
  },
  {
   "cell_type": "code",
   "execution_count": 68,
   "metadata": {},
   "outputs": [
    {
     "data": {
      "image/png": "[encoded data removed]",
      "text/plain": [
       "Graphics object consisting of 4 graphics primitives"
      ]
     },
     "metadata": {},
     "output_type": "display_data"
    }
   ],
   "source": [
    "p = points(heList, color='blue',legend_label='he')\n",
    "p += line(heList, color='blue')\n",
    "p += points(sheList, color='red',legend_label='she')\n",
    "p += line(sheList, color='red')\n",
    "p.axes_labels(['Chapter No.','Frequency'])\n",
    "p.axes_labels_size(1.0)\n",
    "p.show(figsize=[8,3])"
   ]
  },
  {
   "cell_type": "code",
   "execution_count": 63,
   "metadata": {},
   "outputs": [],
   "source": [
    "p. # place the cursor after . and hit Tab button to see options for plotting"
   ]
  },
  {
   "cell_type": "code",
   "execution_count": 70,
   "metadata": {},
   "outputs": [
    {
     "data": {
      "text/plain": [
       "<class 'sage.plot.graphics.Graphics'>"
      ]
     },
     "execution_count": 70,
     "metadata": {},
     "output_type": "execute_result"
    }
   ],
   "source": [
    "type(p) # what we did above is superimposing primitive geometric objects: points and lines"
   ]
  },
  {
   "cell_type": "markdown",
   "metadata": {},
   "source": [
    "### Assignment Gotcha!\n",
    "\n",
    "Let's examine the three assignments in the cell below.\n",
    "\n",
    "The first assignment of `x=3` is standard: Python/SageMath chooses a memory location for `x` and saves the integer value `3` in it. \n",
    "\n",
    "The second assignment of `y=x` is more interesting and *Pythonic*: Instead of finding another location for the variable `y` and copying the value of `3` in it, Python/SageMath differs from the ways of C/C++. Since both variables will have the same value after the assignment, Python/SageMath lets `y` point to the memory location of `x`.\n",
    "\n",
    "Finally, after the third assignment of `y=2`, `x` will be NOT be changed to `2` as because the behavior is not that of a C-pointer. Since `x` and `y` will not share the same value anymore, `y` gets its own memory location, containing `2` and `x` sticks to the originally assigned value `3`."
   ]
  },
  {
   "cell_type": "code",
   "execution_count": 75,
   "metadata": {},
   "outputs": [
    {
     "name": "stdout",
     "output_type": "stream",
     "text": [
      "3\n",
      "(3, 3)\n",
      "(3, 2)\n"
     ]
    }
   ],
   "source": [
    "x=3\n",
    "print(x) # x is 3\n",
    "y=x\n",
    "print(x,y) # x is 3 and y is \n",
    "y=2\n",
    "print(x,y)"
   ]
  },
  {
   "cell_type": "markdown",
   "metadata": {},
   "source": [
    "As every instance (object or variable) has an identity or `id()`, i.e. an integer which is unique within the script or program, we can use `id()` to understand the above behavior of Python/SageMath assignments.\n",
    "\n",
    "So, let's have a look at our previous example and see how the identities change with the assignments."
   ]
  },
  {
   "cell_type": "code",
   "execution_count": 76,
   "metadata": {},
   "outputs": [
    {
     "name": "stdout",
     "output_type": "stream",
     "text": [
      "x and its id() are:\n",
      "(3, 140085314697904)\n",
      "\n",
      "y and its id() are:\n",
      "(3, 140085314697904)\n",
      "\n",
      "x, y and their id()s are:\n",
      "(3, 2, 140085314697904, 140085314531216)\n"
     ]
    }
   ],
   "source": [
    "x = 3\n",
    "print('x and its id() are:')\n",
    "print(x,id(x))\n",
    "\n",
    "y = x\n",
    "print('\\ny and its id() are:')\n",
    "print(y,id(y))\n",
    "\n",
    "y = 2\n",
    "print('\\nx, y and their id()s are:')\n",
    "print(x,y,id(x),id(y))"
   ]
  },
  {
   "cell_type": "markdown",
   "metadata": {},
   "source": [
    "## Example 6: Truth statements and Boolean values\n",
    "\n",
    "Consider statements like \"Today is Friday\" or \"2 is greater than 1\" or \" 1 equals 1\":   statements which are either true or not true (i.e., false).   SageMath has two values, True and False  which you'll meet in this situation.   These value are called Booleans values, or values of the type Boolean.\n",
    "\n",
    "In SageMath, we can express statements like \"2 is greater than 1\" or \" 1 equals 1\" with relational operators, also known as value comparison operators.   Have a look at the list below.\n",
    "\n",
    "- `<` Less than\n",
    "- `>` Greater than\n",
    "- `<=` Less than or equal to\n",
    "- `>=` Greater than or equal to\n",
    "- `==` Equal to. \n",
    "- `!=` Not equal to\n",
    "\n",
    "Lets try some really simple truth statements."
   ]
  },
  {
   "cell_type": "code",
   "execution_count": 77,
   "metadata": {},
   "outputs": [
    {
     "data": {
      "text/plain": [
       "False"
      ]
     },
     "execution_count": 77,
     "metadata": {},
     "output_type": "execute_result"
    }
   ],
   "source": [
    "1 < 1          # 1 is less than 1"
   ]
  },
  {
   "cell_type": "markdown",
   "metadata": {},
   "source": [
    "Let us evaluate the following statement."
   ]
  },
  {
   "cell_type": "code",
   "execution_count": 78,
   "metadata": {},
   "outputs": [
    {
     "data": {
      "text/plain": [
       "True"
      ]
     },
     "execution_count": 78,
     "metadata": {},
     "output_type": "execute_result"
    }
   ],
   "source": [
    "1 <= 1  # 1 is less than or equal to 1"
   ]
  },
  {
   "cell_type": "markdown",
   "metadata": {},
   "source": [
    "We can use these operators on variables as well as on values.   Again, try assigning different values to `x` and `y`, or try using different operators, if you want to."
   ]
  },
  {
   "cell_type": "code",
   "execution_count": 79,
   "metadata": {},
   "outputs": [
    {
     "data": {
      "text/plain": [
       "False"
      ]
     },
     "execution_count": 79,
     "metadata": {},
     "output_type": "execute_result"
    }
   ],
   "source": [
    "x = 1          # assign the value 1 to x             \n",
    "y = 2          # assign the value 2 to y \n",
    "x == y         # evaluate the truth statement \"x is equal to y\""
   ]
  },
  {
   "cell_type": "markdown",
   "metadata": {},
   "source": [
    "Note that when we check if something equals something else, we use `==`, a double equals sign. This is because `=`, a single equals sign, is the assignment operator we talked about above.  Therefore, to test if `x` equals `y` we can't write `x = y` because this would assign `y to x`, instead we use the equality operator `==` and write `x == y`.\n",
    "\n",
    "We can also assign a Boolean value to a variable."
   ]
  },
  {
   "cell_type": "code",
   "execution_count": 80,
   "metadata": {},
   "outputs": [
    {
     "data": {
      "text/plain": [
       "False"
      ]
     },
     "execution_count": 80,
     "metadata": {},
     "output_type": "execute_result"
    }
   ],
   "source": [
    "# Using the same x and y as above\n",
    "myBoolean = (x == y)   # assign the result of x == y to the variable myBoolean\n",
    "myBoolean              # disclose myBoolean"
   ]
  },
  {
   "cell_type": "code",
   "execution_count": 81,
   "metadata": {},
   "outputs": [
    {
     "data": {
      "text/plain": [
       "<type 'bool'>"
      ]
     },
     "execution_count": 81,
     "metadata": {},
     "output_type": "execute_result"
    }
   ],
   "source": [
    "type(myBoolean)        # check the type of myBoolean"
   ]
  },
  {
   "cell_type": "markdown",
   "metadata": {},
   "source": [
    "If we want to check if two things are not equal we use `!=`.   As we would expect, it gives us the opposite of testing for equality:"
   ]
  },
  {
   "cell_type": "code",
   "execution_count": 82,
   "metadata": {},
   "outputs": [
    {
     "data": {
      "text/plain": [
       "True"
      ]
     },
     "execution_count": 82,
     "metadata": {},
     "output_type": "execute_result"
    }
   ],
   "source": [
    "x != y                 # evaluate the truth statement \"x is not equal to y\""
   ]
  },
  {
   "cell_type": "code",
   "execution_count": 83,
   "metadata": {},
   "outputs": [
    {
     "name": "stdout",
     "output_type": "stream",
     "text": [
      "(1, 2)\n"
     ]
    }
   ],
   "source": [
    "print(x,y)             # Let's print x and y to make sure the above statement makes sense "
   ]
  },
  {
   "cell_type": "markdown",
   "metadata": {},
   "source": [
    "### You try\n",
    "\n",
    "Try assigning some values to two variables - you choose what values and you choose what variable names to use.  Try some truth statements to check if they are equal, or one is less than the other. "
   ]
  },
  {
   "cell_type": "code",
   "execution_count": null,
   "metadata": {
    "collapsed": true
   },
   "outputs": [],
   "source": []
  },
  {
   "cell_type": "markdown",
   "metadata": {},
   "source": [
    "### You try\n",
    "Try some strings (we looked at strings briefly in Example 5 above). Can you check if two strings are equal? Can you check if one string is less than (`<`) another string. How do you think that Sage is ordering strings (try comparing \"fred\" and \"freddy\", for example)?"
   ]
  },
  {
   "cell_type": "code",
   "execution_count": 84,
   "metadata": {},
   "outputs": [
    {
     "data": {
      "text/plain": [
       "False"
      ]
     },
     "execution_count": 84,
     "metadata": {},
     "output_type": "execute_result"
    }
   ],
   "source": [
    "'raazb' <= 'raaza'"
   ]
  },
  {
   "cell_type": "code",
   "execution_count": 85,
   "metadata": {},
   "outputs": [
    {
     "name": "stdout",
     "output_type": "stream",
     "text": [
      "[5]\n",
      "([5], 140085306496640, [5], 140085306496640)\n"
     ]
    }
   ],
   "source": [
    "x = [1]\n",
    "y = x\n",
    "y[0] = 5\n",
    "print x\n",
    "print(x,id(x),y,id(y))"
   ]
  },
  {
   "cell_type": "markdown",
   "metadata": {},
   "source": [
    "## Example 7: Mathematical constants\n",
    "\n",
    "Sage has reserved words that are defined as common mathematical constants.  For example, `pi` and `e` behave as you expect.  Numerical approximations can be obtained using the `.n()` method, as before."
   ]
  },
  {
   "cell_type": "code",
   "execution_count": 86,
   "metadata": {},
   "outputs": [
    {
     "name": "stdout",
     "output_type": "stream",
     "text": [
      "pi ~ 3.14159265358979\n",
      "e ~ 2.71828182845905\n",
      "I ~ 1.00000000000000*I\n"
     ]
    }
   ],
   "source": [
    "print pi, \"~\", pi.n()   # print a numerical approximation of the mathematical constant pi\n",
    "print e, \"~\", e.n()     # print a numerical approximation of the mathematical constant e\n",
    "print I, \"~\", I.n()     # print a numerical approximation of the imaginary number sqrt(-1)"
   ]
  },
  {
   "cell_type": "code",
   "execution_count": 89,
   "metadata": {},
   "outputs": [
    {
     "data": {
      "text/plain": [
       "1.155727349790921717910093183312696299120851023164415820499706535327288631840916939440188434235673559"
      ]
     },
     "execution_count": 89,
     "metadata": {},
     "output_type": "execute_result"
    }
   ],
   "source": [
    "(pi/e).n(digits=100)   # print the first 100 digits of pi/e"
   ]
  },
  {
   "cell_type": "code",
   "execution_count": 90,
   "metadata": {},
   "outputs": [
    {
     "data": {
      "text/plain": [
       "0"
      ]
     },
     "execution_count": 90,
     "metadata": {},
     "output_type": "execute_result"
    }
   ],
   "source": [
    "e^(i*pi)+1          # Euler's identity symbolically - see https://en.wikipedia.org/wiki/Euler%27s_identity"
   ]
  },
  {
   "cell_type": "markdown",
   "metadata": {},
   "source": [
    "## Example 8: SageMath number types and Python number types\n",
    "\n",
    "We showed how you can find the type of a number value and we demonstrated that by default, SageMath makes 'real' numbers like 3.1 into Sage real literals (`sage.rings.real_mpfr.RealLiteral`).  \n",
    "\n",
    "If you were just using Python (the programming language underlying most of SageMath) then a value like 3.1 would be a floating point number or float type.  Python has some interesting extra operators that you can use with Python floating point numbers, which also work with the Sage rings integer type but not with Sage real literals."
   ]
  },
  {
   "cell_type": "code",
   "execution_count": 91,
   "metadata": {},
   "outputs": [
    {
     "data": {
      "text/plain": [
       "<type 'sage.rings.real_mpfr.RealLiteral'>"
      ]
     },
     "execution_count": 91,
     "metadata": {},
     "output_type": "execute_result"
    }
   ],
   "source": [
    "X = 3.1 # convert to default Sage real literal 3.1 \n",
    "type(X)"
   ]
  },
  {
   "cell_type": "code",
   "execution_count": 92,
   "metadata": {},
   "outputs": [
    {
     "data": {
      "text/plain": [
       "<type 'float'>"
      ]
     },
     "execution_count": 92,
     "metadata": {},
     "output_type": "execute_result"
    }
   ],
   "source": [
    "X = float(3.1) # convert the default Sage real literal 3.1 to a float 3.1\n",
    "type(X)"
   ]
  },
  {
   "cell_type": "markdown",
   "metadata": {},
   "source": [
    "Floor Division (`//`) - The division of operands where the result is the quotient in which the digits after the decimal point are removed - the result is floored, i.e., rounded towards negative infinity: examples: 9//2 = 4 and 9.0//2.0 = 4.0, -11//3 = -4, -11.0//3 = -4.0"
   ]
  },
  {
   "cell_type": "code",
   "execution_count": 93,
   "metadata": {},
   "outputs": [
    {
     "data": {
      "text/plain": [
       "1"
      ]
     },
     "execution_count": 93,
     "metadata": {},
     "output_type": "execute_result"
    }
   ],
   "source": [
    "3 // 2 # floor division "
   ]
  },
  {
   "cell_type": "code",
   "execution_count": 94,
   "metadata": {},
   "outputs": [
    {
     "ename": "TypeError",
     "evalue": "unsupported operand parent(s) for //: 'Real Field with 53 bits of precision' and 'Real Field with 53 bits of precision'",
     "output_type": "error",
     "traceback": [
      "\u001b[0;31m---------------------------------------------------------------------------\u001b[0m",
      "\u001b[0;31mTypeError\u001b[0m                                 Traceback (most recent call last)",
      "\u001b[0;32m<ipython-input-94-cfec9a575a73>\u001b[0m in \u001b[0;36m<module>\u001b[0;34m()\u001b[0m\n\u001b[0;32m----> 1\u001b[0;31m \u001b[0mRealNumber\u001b[0m\u001b[0;34m(\u001b[0m\u001b[0;34m'3.3'\u001b[0m\u001b[0;34m)\u001b[0m \u001b[0;34m//\u001b[0m \u001b[0mRealNumber\u001b[0m\u001b[0;34m(\u001b[0m\u001b[0;34m'2.0'\u001b[0m\u001b[0;34m)\u001b[0m \u001b[0;31m# this will give error - floor division is undefined for Sage real literals\u001b[0m\u001b[0;34m\u001b[0m\u001b[0m\n\u001b[0m",
      "\u001b[0;32m/home/raazesh/all/software/sage/SageMath/src/sage/structure/element.pyx\u001b[0m in \u001b[0;36msage.structure.element.Element.__floordiv__ (build/cythonized/sage/structure/element.c:13318)\u001b[0;34m()\u001b[0m\n\u001b[1;32m   1814\u001b[0m         \u001b[0mcdef\u001b[0m \u001b[0mint\u001b[0m \u001b[0mcl\u001b[0m \u001b[0;34m=\u001b[0m \u001b[0mclassify_elements\u001b[0m\u001b[0;34m(\u001b[0m\u001b[0mleft\u001b[0m\u001b[0;34m,\u001b[0m \u001b[0mright\u001b[0m\u001b[0;34m)\u001b[0m\u001b[0;34m\u001b[0m\u001b[0m\n\u001b[1;32m   1815\u001b[0m         \u001b[0;32mif\u001b[0m \u001b[0mHAVE_SAME_PARENT\u001b[0m\u001b[0;34m(\u001b[0m\u001b[0mcl\u001b[0m\u001b[0;34m)\u001b[0m\u001b[0;34m:\u001b[0m\u001b[0;34m\u001b[0m\u001b[0m\n\u001b[0;32m-> 1816\u001b[0;31m             \u001b[0;32mreturn\u001b[0m \u001b[0;34m(\u001b[0m\u001b[0;34m<\u001b[0m\u001b[0mElement\u001b[0m\u001b[0;34m>\u001b[0m\u001b[0mleft\u001b[0m\u001b[0;34m)\u001b[0m\u001b[0;34m.\u001b[0m\u001b[0m_floordiv_\u001b[0m\u001b[0;34m(\u001b[0m\u001b[0mright\u001b[0m\u001b[0;34m)\u001b[0m\u001b[0;34m\u001b[0m\u001b[0m\n\u001b[0m\u001b[1;32m   1817\u001b[0m         \u001b[0;32mif\u001b[0m \u001b[0mBOTH_ARE_ELEMENT\u001b[0m\u001b[0;34m(\u001b[0m\u001b[0mcl\u001b[0m\u001b[0;34m)\u001b[0m\u001b[0;34m:\u001b[0m\u001b[0;34m\u001b[0m\u001b[0m\n\u001b[1;32m   1818\u001b[0m             \u001b[0;32mreturn\u001b[0m \u001b[0mcoercion_model\u001b[0m\u001b[0;34m.\u001b[0m\u001b[0mbin_op\u001b[0m\u001b[0;34m(\u001b[0m\u001b[0mleft\u001b[0m\u001b[0;34m,\u001b[0m \u001b[0mright\u001b[0m\u001b[0;34m,\u001b[0m \u001b[0mfloordiv\u001b[0m\u001b[0;34m)\u001b[0m\u001b[0;34m\u001b[0m\u001b[0m\n",
      "\u001b[0;32m/home/raazesh/all/software/sage/SageMath/src/sage/structure/element.pyx\u001b[0m in \u001b[0;36msage.structure.element.Element._floordiv_ (build/cythonized/sage/structure/element.c:13639)\u001b[0;34m()\u001b[0m\n\u001b[1;32m   1849\u001b[0m             \u001b[0mpython_op\u001b[0m \u001b[0;34m=\u001b[0m \u001b[0;34m(\u001b[0m\u001b[0;34m<\u001b[0m\u001b[0mobject\u001b[0m\u001b[0;34m>\u001b[0m\u001b[0mself\u001b[0m\u001b[0;34m)\u001b[0m\u001b[0;34m.\u001b[0m\u001b[0m_floordiv_\u001b[0m\u001b[0;34m\u001b[0m\u001b[0m\n\u001b[1;32m   1850\u001b[0m         \u001b[0;32mexcept\u001b[0m \u001b[0mAttributeError\u001b[0m\u001b[0;34m:\u001b[0m\u001b[0;34m\u001b[0m\u001b[0m\n\u001b[0;32m-> 1851\u001b[0;31m             \u001b[0;32mraise\u001b[0m \u001b[0mbin_op_exception\u001b[0m\u001b[0;34m(\u001b[0m\u001b[0;34m'//'\u001b[0m\u001b[0;34m,\u001b[0m \u001b[0mself\u001b[0m\u001b[0;34m,\u001b[0m \u001b[0mother\u001b[0m\u001b[0;34m)\u001b[0m\u001b[0;34m\u001b[0m\u001b[0m\n\u001b[0m\u001b[1;32m   1852\u001b[0m         \u001b[0;32melse\u001b[0m\u001b[0;34m:\u001b[0m\u001b[0;34m\u001b[0m\u001b[0m\n\u001b[1;32m   1853\u001b[0m             \u001b[0;32mreturn\u001b[0m \u001b[0mpython_op\u001b[0m\u001b[0;34m(\u001b[0m\u001b[0mother\u001b[0m\u001b[0;34m)\u001b[0m\u001b[0;34m\u001b[0m\u001b[0m\n",
      "\u001b[0;31mTypeError\u001b[0m: unsupported operand parent(s) for //: 'Real Field with 53 bits of precision' and 'Real Field with 53 bits of precision'"
     ]
    }
   ],
   "source": [
    "3.3 // 2.0 # this will give error - floor division is undefined for Sage real literals"
   ]
  },
  {
   "cell_type": "code",
   "execution_count": 95,
   "metadata": {},
   "outputs": [
    {
     "data": {
      "text/plain": [
       "1.0"
      ]
     },
     "execution_count": 95,
     "metadata": {},
     "output_type": "execute_result"
    }
   ],
   "source": [
    "float(3.5) // float(2.0)"
   ]
  },
  {
   "cell_type": "markdown",
   "metadata": {},
   "source": [
    "Similarly, we have the light-weight Python integer type `int` that we may want instead of SageMath integer type for non-mathematical operations."
   ]
  },
  {
   "cell_type": "code",
   "execution_count": 96,
   "metadata": {},
   "outputs": [
    {
     "data": {
      "text/plain": [
       "<type 'sage.rings.integer.Integer'>"
      ]
     },
     "execution_count": 96,
     "metadata": {},
     "output_type": "execute_result"
    }
   ],
   "source": [
    "type(3) # the default Sage rings integer type"
   ]
  },
  {
   "cell_type": "code",
   "execution_count": 97,
   "metadata": {},
   "outputs": [
    {
     "data": {
      "text/plain": [
       "<type 'int'>"
      ]
     },
     "execution_count": 97,
     "metadata": {},
     "output_type": "execute_result"
    }
   ],
   "source": [
    "X = int(3) # conversion to a plain Python integer type\n",
    "type(X)"
   ]
  },
  {
   "cell_type": "code",
   "execution_count": 98,
   "metadata": {},
   "outputs": [
    {
     "data": {
      "text/plain": [
       "3/2"
      ]
     },
     "execution_count": 98,
     "metadata": {},
     "output_type": "execute_result"
    }
   ],
   "source": [
    "3/2 # see the result you get when dividing one default Sage rings integer type by another"
   ]
  },
  {
   "cell_type": "markdown",
   "metadata": {},
   "source": [
    "One of the differences of SageMath rings integers to plain Python integers is that result of dividing one SageMath rings integer by another is a rational. This probably seems very sensible, but it is not what happens at the moment with Python integers."
   ]
  },
  {
   "cell_type": "code",
   "execution_count": 99,
   "metadata": {},
   "outputs": [
    {
     "data": {
      "text/plain": [
       "3"
      ]
     },
     "execution_count": 99,
     "metadata": {},
     "output_type": "execute_result"
    }
   ],
   "source": [
    "int(7)/int(2) # division using python integers is \"floor division\" "
   ]
  },
  {
   "cell_type": "markdown",
   "metadata": {},
   "source": [
    "We showed the `.n()` method.  If X is some Sage real literal and we use `X.n(20)` we will be asking for 20 bits of precision, which is about how many bits in the computer's memory will be allocated to hold the number.  If we ask for `X.n(digits=20)` will be asking for 20 digits of precision, which is not the same thing.  Also note that 20 digits of precision does not mean showing the number to 20 decimal places, it means all the digits including those in front of the decimal point. "
   ]
  },
  {
   "cell_type": "code",
   "execution_count": null,
   "metadata": {},
   "outputs": [],
   "source": [
    "help(n) # always ask for help when you need it - or lookup in help menu above"
   ]
  },
  {
   "cell_type": "code",
   "execution_count": 100,
   "metadata": {},
   "outputs": [
    {
     "data": {
      "text/plain": [
       "3.56"
      ]
     },
     "execution_count": 100,
     "metadata": {},
     "output_type": "execute_result"
    }
   ],
   "source": [
    "X=3.55555555\n",
    "X.n(digits = 3)"
   ]
  },
  {
   "cell_type": "code",
   "execution_count": 101,
   "metadata": {},
   "outputs": [
    {
     "data": {
      "text/plain": [
       "3.5"
      ]
     },
     "execution_count": 101,
     "metadata": {},
     "output_type": "execute_result"
    }
   ],
   "source": [
    "X.n(3) # this will use 3 bits of precision"
   ]
  },
  {
   "cell_type": "code",
   "execution_count": 102,
   "metadata": {},
   "outputs": [
    {
     "data": {
      "text/plain": [
       "3.556"
      ]
     },
     "execution_count": 102,
     "metadata": {},
     "output_type": "execute_result"
    }
   ],
   "source": [
    "round(X,3)"
   ]
  },
  {
   "cell_type": "code",
   "execution_count": 96,
   "metadata": {
    "collapsed": true
   },
   "outputs": [],
   "source": [
    "?round # this opens a window with help information that can be closed"
   ]
  },
  {
   "cell_type": "markdown",
   "metadata": {},
   "source": [
    "If you want to actually round a number to a specific number of decimal places, you can also use the round(...) function.\n",
    "\n",
    "For deeper dive see documents on [Python Numeric Types](https://docs.python.org/2/library/stdtypes.html#numeric-types-int-float-long-complex) and [SageMath Numeric Types]()"
   ]
  },
  {
   "cell_type": "markdown",
   "metadata": {},
   "source": [
    "# Sets\n",
    "\n",
    "Set theory is at the very foundation in modern mathematics and is necessary to understand the mathematical notions of probability and statistics. We will take a practical mathemtical tour of the essential concepts from set theory that a data scientist needs to understand and build probabilistic models from the data using statistical principles."
   ]
  },
  {
   "cell_type": "code",
   "execution_count": 107,
   "metadata": {},
   "outputs": [
    {
     "data": {
      "text/html": [
       "\n",
       "        <iframe\n",
       "            width=\"95%\"\n",
       "            height=\"500\"\n",
       "            src=\"https://en.wikipedia.org/wiki/Set_(mathematics)\"\n",
       "            frameborder=\"0\"\n",
       "            allowfullscreen\n",
       "        ></iframe>\n",
       "        "
      ],
      "text/plain": [
       "<IPython.lib.display.IFrame object at 0x7f298cb125d0>"
      ]
     },
     "execution_count": 107,
     "metadata": {},
     "output_type": "execute_result"
    }
   ],
   "source": [
    "showURL(\"https://en.wikipedia.org/wiki/Set_(mathematics)\",500)"
   ]
  },
  {
   "cell_type": "markdown",
   "metadata": {},
   "source": [
    "## Essentials of Set Theory for Probability and Statistics\n",
    "\n",
    "**These are black-board lectures typeset here.**\n",
    "\n",
    "Let us learn or recall elementary set theory.  Sets are perhaps the most fundamental concept in mathematics.\n",
    "\n",
    "### Definitions\n",
    "\n",
    "**Set** *is a collection of distinct elements*.  \n",
    "\n",
    "We write a set by enclosing its elements with curly brackets.  Let us see some example next.\n",
    "\n",
    "- The collection of $\\star$ and $\\circ$ is $\\{\\star,\\circ\\}$.\n",
    "- We can name the set $\\{\\star,\\circ\\}$ by the letter $A$ and write $$A=\\{\\star,\\circ\\}.$$\n",
    "- Question: Is $\\{\\star,\\star,\\circ\\}$ a set?\n",
    "- A set of letters and numbers that I like is $\\{b,d,6,p,q,9\\}$.\n",
    "- The set of first five Greek alphabets is $\\{\\alpha,\\beta,\\gamma,\\delta,\\epsilon\\}$.\n",
    "\n",
    "The set that contains no elements is the **empty set**.  It is denoted by \n",
    "$$\\boxed{\\emptyset = \\{\\}} \\ .$$\n",
    "\n",
    "We say an element belongs to or does not belong to a set with the binary operators \n",
    "$$\\boxed{\\in \\ \\text{or} \\ \\notin} \\ .$$ \n",
    "For example,\n",
    "\n",
    "- $\\star \\in \\{\\star,\\circ\\}$ but the element $\\otimes \\notin \\{\\star,\\circ\\}$\n",
    "- $b \\in \\{b,d,6,p,q,9\\}$ but $8 \\notin \\{b,d,6,p,q,9\\}$\n",
    "- Question: Is $9 \\in \\{3,4,1,5,2,8,6,7\\}$?\n",
    "\n",
    "We say a set $C$ is a **subset** of a set $D$ and write\n",
    "\n",
    "$$\\boxed{C \\subset D}$$\n",
    "\n",
    "if every element of $C$ is also an element of $D$.  For example,\n",
    "\n",
    "- $\\{\\star\\} \\subset \\{\\star,\\circ\\}$\n",
    "- Question: Is $\\{6,9\\}\\subset \\{b,d,6,p,q,9\\}$?\n",
    "\n",
    "### Set Operations\n",
    "\n",
    "We can add distinct new elements to an existing set by **union** operation denoted by $\\cup$ symbol.  \n",
    "\n",
    "For example\n",
    "\n",
    "- $\\{\\circ, \\bullet\\} \\cup \\{\\star\\} = \\{\\circ,\\bullet,\\star\\}$\n",
    "- Question: $\\{\\circ, \\bullet\\} \\cup \\{\\bullet\\} = \\quad$?\n",
    "\n",
    "More formally, we write the union of two sets $A$ and $B$ as \n",
    "$$\\boxed{A \\cup B = \\{x: x \\in A \\ \\text{or} \\ x \\in B \\}} \\ .$$\n",
    "\n",
    "The symbols above are read as *$A$ union $B$ is equal to the set of all $x$ such that $x$ belongs to $A$ or $x$ belongs to $B$* and simply means that $A$ union $B$ or $A \\cup B$ is the set of elements that belong to $A$ or $B$.\n",
    "\n",
    "Similarly, the **intersection** of two sets $A$ and $B$ written as \n",
    "$$\\boxed{A \\cap B = \\{x: x \\in A \\ \\text{and} \\ x \\in B \\}} $$ \n",
    "means $A$ intersection $B$ is the set of  elements that belong to both $A$ and $B$.\n",
    "\n",
    "For example\n",
    "\n",
    "- $\\{\\circ, \\bullet\\} \\cap \\{\\circ\\} = \\{\\circ\\}$\n",
    "- $\\{\\circ, \\bullet\\} \\cap \\{\\bullet\\} = \\{\\bullet\\}$\n",
    "- $\\{\\circ\\} \\cap \\{a,b,c,d\\}=\\emptyset$\n",
    "\n",
    "The **set difference** of two sets $A$ and $B$ written as \n",
    "$$\\boxed{A \\setminus B = \\{x: x \\in A \\ \\text{and} \\ x \\notin B \\}} $$ \n",
    "means $A \\setminus B$ is the set of  elements that belong to $A$ and not belong to $B$.\n",
    "\n",
    "For example\n",
    "\n",
    "- $\\{\\circ, \\bullet\\} \\setminus \\{\\circ\\} = \\{\\bullet\\}$\n",
    "- $\\{\\circ, \\bullet\\} \\setminus \\{\\bullet\\} = \\{\\circ\\}$\n",
    "- $\\{a,b,c,d\\} \\setminus \\{a,b,c,d\\}=\\emptyset$\n",
    "\n",
    "The equality of two sets $A$ and $B$ is defined in terms of subsets as follows: \n",
    "$$\\boxed{A = B \\quad \\text{if and only if} \\quad A \\subset B \\ \\text{and} \\ B \\subset A} \\ .$$\n",
    "\n",
    "Two sets $A$ anb $B$ are said to be **disjoint** if \n",
    "$$\\boxed{ A \\cap B = \\emptyset} \\ .$$\n",
    "\n",
    "Given a **universal set** $\\Omega$, we define the **complement** of a subset $A$ of the universal set by $$\\boxed{A^c = \\Omega \\setminus A = \\{x: x \\in \\Omega \\ \\text{and} \\ x \\notin A\\}} \\ .$$\n"
   ]
  },
  {
   "cell_type": "markdown",
   "metadata": {},
   "source": [
    "### An Interactive Venn Diagram\n",
    "\n",
    "Let us gain more intuition by seeing the unions and intersections of sets interactively.  The following interact is from [interact/misc](https://wiki.sagemath.org/interact/misc#AnInteractiveVennDiagram) page  of Sage Wiki."
   ]
  },
  {
   "cell_type": "code",
   "execution_count": 108,
   "metadata": {},
   "outputs": [
    {
     "data": {
      "application/vnd.jupyter.widget-view+json": {
       "model_id": "05dcf7d2466a49f08ddca15e15e95fe6",
       "version_major": 2,
       "version_minor": 0
      },
      "text/plain": [
       "SW50ZXJhY3RpdmUgZnVuY3Rpb24gPGZ1bmN0aW9uIF8gYXQgMHg3ZjI5OGNlNTZjZjg+IHdpdGggMyB3aWRnZXRzCiAgWDogVGV4dCh2YWx1ZT11JzEsMiwzLGEnLCBkZXNjcmlwdGlvbj11J1jigKY=\n"
      ]
     },
     "metadata": {},
     "output_type": "display_data"
    }
   ],
   "source": [
    "# ignore this code for now and focus on the interact in the output cell\n",
    "def f(s, braces=True): \n",
    "    t = ', '.join(sorted(list(s)))\n",
    "    if braces: return '{' + t + '}'\n",
    "    return t\n",
    "def g(s): return set(str(s).replace(',',' ').split())\n",
    "\n",
    "@interact\n",
    "def _(X='1,2,3,a', Y='2,a,3,4,apple', Z='a,b,10,apple'):\n",
    "    S = [g(X), g(Y), g(Z)]\n",
    "    X,Y,Z = S\n",
    "    XY = X & Y\n",
    "    XZ = X & Z\n",
    "    YZ = Y & Z\n",
    "    XYZ = XY & Z\n",
    "    pretty_print(html('<center>'))\n",
    "    pretty_print(html(\"$X \\cap Y$ = %s\"%f(XY)))\n",
    "    pretty_print(html(\"$X \\cap Z$ = %s\"%f(XZ)))\n",
    "    pretty_print(html(\"$Y \\cap Z$ = %s\"%f(YZ)))\n",
    "    pretty_print(html(\"$X \\cap Y \\cap Z$ = %s\"%f(XYZ)))\n",
    "    pretty_print(html('</center>'))\n",
    "    centers = [(cos(n*2*pi/3), sin(n*2*pi/3)) for n in [0,1,2]]\n",
    "    scale = 1.7\n",
    "    clr = ['yellow', 'blue', 'green']\n",
    "    G = Graphics()\n",
    "    for i in range(len(S)):\n",
    "        G += circle(centers[i], scale, rgbcolor=clr[i], \n",
    "             fill=True, alpha=0.3)\n",
    "    for i in range(len(S)):\n",
    "        G += circle(centers[i], scale, rgbcolor='black')\n",
    "\n",
    "    # Plot what is in one but neither other\n",
    "    for i in range(len(S)):\n",
    "        Z = set(S[i])\n",
    "        for j in range(1,len(S)):\n",
    "            Z = Z.difference(S[(i+j)%3])\n",
    "        G += text(f(Z,braces=False), (1.5*centers[i][0],1.7*centers[i][1]), rgbcolor='black')\n",
    "\n",
    "\n",
    "    # Plot pairs of intersections\n",
    "    for i in range(len(S)):\n",
    "        Z = (set(S[i]) & S[(i+1)%3]) - set(XYZ)\n",
    "        C = (1.3*cos(i*2*pi/3 + pi/3), 1.3*sin(i*2*pi/3 + pi/3))\n",
    "        G += text(f(Z,braces=False), C, rgbcolor='black')\n",
    "\n",
    "    # Plot intersection of all three\n",
    "    G += text(f(XYZ,braces=False), (0,0), rgbcolor='black')\n",
    "\n",
    "    # Show it\n",
    "    G.show(aspect_ratio=1, axes=False)"
   ]
  },
  {
   "cell_type": "markdown",
   "metadata": {},
   "source": [
    "# Create and manipulate sets in SageMath."
   ]
  },
  {
   "cell_type": "markdown",
   "metadata": {},
   "source": [
    "## Example 0: Lists before Sets\n",
    "\n",
    "A `list` is a sequential collection that we will revisit in detail soon. For now, we just need to know that we can create a list by using delimiter `,` between items and by wrapping with left and right square brackets: `[` and `]`. For example, the following is a list of 4 integers:"
   ]
  },
  {
   "cell_type": "code",
   "execution_count": 105,
   "metadata": {},
   "outputs": [
    {
     "data": {
      "text/plain": [
       "[1, 2, 3, 4]"
      ]
     },
     "execution_count": 105,
     "metadata": {},
     "output_type": "execute_result"
    }
   ],
   "source": [
    "[1,2,3,4]"
   ]
  },
  {
   "cell_type": "code",
   "execution_count": 106,
   "metadata": {},
   "outputs": [
    {
     "name": "stdout",
     "output_type": "stream",
     "text": [
      "[1, 2, 3, 4]\n"
     ]
    },
    {
     "data": {
      "text/plain": [
       "<type 'list'>"
      ]
     },
     "execution_count": 106,
     "metadata": {},
     "output_type": "execute_result"
    }
   ],
   "source": [
    "myList = [1,2,3,4]    # we can assign the list to a variable myList\n",
    "print(myList)         # print myList \n",
    "type(myList)          # and ask for its type "
   ]
  },
  {
   "cell_type": "markdown",
   "metadata": {},
   "source": [
    "List is one of the most primitive data structures and has a long history in a popular computer programming language called <a href=\"https://en.wikipedia.org/wiki/Lisp_(programming_language)\">LISP</a> - originally created as a practical mathematical notation for computer programs.\n",
    "\n",
    "For now, we just use lists to create sets."
   ]
  },
  {
   "cell_type": "markdown",
   "metadata": {},
   "source": [
    "## Example 1: Making sets\n",
    "\n",
    "In SageMath, you do have to specifically say that you want a set when you make it. \n",
    "\n",
    "Do the following in SageMath/Python to create the mathematical set:\n",
    "\n",
    "$$X = \\{1,2,3,4\\}$$"
   ]
  },
  {
   "cell_type": "code",
   "execution_count": 107,
   "metadata": {},
   "outputs": [
    {
     "data": {
      "text/plain": [
       "{1, 2, 3, 4}"
      ]
     },
     "execution_count": 107,
     "metadata": {},
     "output_type": "execute_result"
    }
   ],
   "source": [
    "X = set([1, 2, 3, 4])  # make the set X={1,2,3,4} from the List [1,2,3,4]\n",
    "X                      # disclose X"
   ]
  },
  {
   "cell_type": "code",
   "execution_count": 108,
   "metadata": {},
   "outputs": [
    {
     "data": {
      "text/plain": [
       "<type 'set'>"
      ]
     },
     "execution_count": 108,
     "metadata": {},
     "output_type": "execute_result"
    }
   ],
   "source": [
    "type(X)                # what is the type of X"
   ]
  },
  {
   "cell_type": "markdown",
   "metadata": {},
   "source": [
    "This is a specialized datatype in Python and more details can be found in Python docs: [https://docs.python.org/2/library/datatypes.html](https://docs.python.org/2/library/datatypes.html)\n",
    "\n",
    "Do the following in SageMath/Python to find out if:\n",
    "\n",
    "$$4 \\in X$$\n",
    "\n",
    "i.e., if $4$ is an element of $X$ or if $4$ is an element of $X$ or $4$ is in $X$."
   ]
  },
  {
   "cell_type": "code",
   "execution_count": 109,
   "metadata": {},
   "outputs": [
    {
     "data": {
      "text/plain": [
       "True"
      ]
     },
     "execution_count": 109,
     "metadata": {},
     "output_type": "execute_result"
    }
   ],
   "source": [
    "4 in X                 # 'is 4 in X?'"
   ]
  },
  {
   "cell_type": "code",
   "execution_count": 110,
   "metadata": {},
   "outputs": [
    {
     "data": {
      "text/plain": [
       "False"
      ]
     },
     "execution_count": 110,
     "metadata": {},
     "output_type": "execute_result"
    }
   ],
   "source": [
    "5 in X                 # 'is 5 in X?'"
   ]
  },
  {
   "cell_type": "code",
   "execution_count": 111,
   "metadata": {},
   "outputs": [
    {
     "data": {
      "text/plain": [
       "{1, 2}"
      ]
     },
     "execution_count": 111,
     "metadata": {},
     "output_type": "execute_result"
    }
   ],
   "source": [
    "Y = set([1, 2])        # make the set Y={1,2}\n",
    "Y                      # disclose Y"
   ]
  },
  {
   "cell_type": "code",
   "execution_count": 112,
   "metadata": {},
   "outputs": [
    {
     "data": {
      "text/plain": [
       "True"
      ]
     },
     "execution_count": 112,
     "metadata": {},
     "output_type": "execute_result"
    }
   ],
   "source": [
    "4 not in Y             # 'is 4 not in Y?'"
   ]
  },
  {
   "cell_type": "code",
   "execution_count": 113,
   "metadata": {},
   "outputs": [
    {
     "data": {
      "text/plain": [
       "False"
      ]
     },
     "execution_count": 113,
     "metadata": {},
     "output_type": "execute_result"
    }
   ],
   "source": [
    "1 not in Y             # 'is 1 not in Y?'"
   ]
  },
  {
   "cell_type": "markdown",
   "metadata": {},
   "source": [
    "We can add new elements to a set."
   ]
  },
  {
   "cell_type": "code",
   "execution_count": 114,
   "metadata": {},
   "outputs": [
    {
     "data": {
      "text/plain": [
       "{1, 2, 3, 4, 5}"
      ]
     },
     "execution_count": 114,
     "metadata": {},
     "output_type": "execute_result"
    }
   ],
   "source": [
    "X.add(5)     # add 5 to the set X\n",
    "X"
   ]
  },
  {
   "cell_type": "markdown",
   "metadata": {},
   "source": [
    "But remember from the mathematical exposition above that sets contain distinct elements."
   ]
  },
  {
   "cell_type": "code",
   "execution_count": 115,
   "metadata": {},
   "outputs": [
    {
     "data": {
      "text/plain": [
       "{1, 2, 3, 4, 5}"
      ]
     },
     "execution_count": 115,
     "metadata": {},
     "output_type": "execute_result"
    }
   ],
   "source": [
    "X.add(1)     # try adding another 1 to the set X\n",
    "X"
   ]
  },
  {
   "cell_type": "markdown",
   "metadata": {},
   "source": [
    "### You try\n",
    "\n",
    "Try making the set $Z=\\{4,5,6,7\\}$ next.   The instructions are in the two cells below."
   ]
  },
  {
   "cell_type": "code",
   "execution_count": 116,
   "metadata": {},
   "outputs": [],
   "source": [
    "# Write in the expression to make set Z ={4, 5, 6, 7} \n",
    "# (press ENTER at the end of this line to get a new line)\n",
    "Z = set([4,5,6,7]) #([4],[5],[6,7]))"
   ]
  },
  {
   "cell_type": "code",
   "execution_count": 117,
   "metadata": {},
   "outputs": [
    {
     "data": {
      "text/plain": [
       "True"
      ]
     },
     "execution_count": 117,
     "metadata": {},
     "output_type": "execute_result"
    }
   ],
   "source": [
    "# Check if 4 is in Z \n",
    "4 in Z\n",
    "# (press ENTER at the end of this line to get a new line)"
   ]
  },
  {
   "cell_type": "markdown",
   "metadata": {},
   "source": [
    "Make a set with the value 2/5 (as a rational) in it.  Try adding 0.4 (as a floating point number) to the set.  \n",
    "\n",
    "Does SageMath do what you expect?"
   ]
  },
  {
   "cell_type": "code",
   "execution_count": null,
   "metadata": {
    "collapsed": true
   },
   "outputs": [],
   "source": []
  },
  {
   "cell_type": "markdown",
   "metadata": {},
   "source": [
    "## Example 2: Subsets\n",
    "\n",
    "In lectures we talked about subsets of sets.\n",
    "\n",
    "Recall that `Y` is a subset of `X` if each element in `Y` is also in `X`."
   ]
  },
  {
   "cell_type": "code",
   "execution_count": 118,
   "metadata": {},
   "outputs": [
    {
     "name": "stdout",
     "output_type": "stream",
     "text": [
      "X is set([1, 2, 3, 4, 5])\n",
      "Y is set([1, 2])\n",
      "Is Y a subset of X?\n"
     ]
    },
    {
     "data": {
      "text/plain": [
       "True"
      ]
     },
     "execution_count": 118,
     "metadata": {},
     "output_type": "execute_result"
    }
   ],
   "source": [
    "print \"X is\", X\n",
    "print \"Y is\", Y\n",
    "print \"Is Y a subset of X?\"\n",
    "Y <= X                       # 'is Y a subset of X?'"
   ]
  },
  {
   "cell_type": "markdown",
   "metadata": {},
   "source": [
    "If you have time: We say Y is a proper subset of X if all the elements in Y are also in X but there is at least one element in X that it is not in Y.  If X is a (proper) subset of Y, then we also say that Y is a (proper) superset of X."
   ]
  },
  {
   "cell_type": "code",
   "execution_count": 119,
   "metadata": {},
   "outputs": [
    {
     "data": {
      "text/plain": [
       "False"
      ]
     },
     "execution_count": 119,
     "metadata": {},
     "output_type": "execute_result"
    }
   ],
   "source": [
    "X < X     # 'is X a proper subset of itself?'"
   ]
  },
  {
   "cell_type": "code",
   "execution_count": 120,
   "metadata": {},
   "outputs": [
    {
     "data": {
      "text/plain": [
       "True"
      ]
     },
     "execution_count": 120,
     "metadata": {},
     "output_type": "execute_result"
    }
   ],
   "source": [
    "X > Y     # 'is X a proper superset of Y?'"
   ]
  },
  {
   "cell_type": "code",
   "execution_count": 121,
   "metadata": {},
   "outputs": [
    {
     "data": {
      "text/plain": [
       "False"
      ]
     },
     "execution_count": 121,
     "metadata": {},
     "output_type": "execute_result"
    }
   ],
   "source": [
    "X > X     # 'is X a proper superset of itself?'"
   ]
  },
  {
   "cell_type": "code",
   "execution_count": 122,
   "metadata": {},
   "outputs": [
    {
     "data": {
      "text/plain": [
       "True"
      ]
     },
     "execution_count": 122,
     "metadata": {},
     "output_type": "execute_result"
    }
   ],
   "source": [
    "X >= Y     # 'is X a superset of Y?' is the same as 'is Y a subset of X?'"
   ]
  },
  {
   "cell_type": "markdown",
   "metadata": {},
   "source": [
    "## Example 3: More set operations\n",
    "\n",
    "Now let's have a look at the other set operations we talked about above:  intersection, union, and difference.\n",
    "\n",
    "Recall that the intersection of X and Y is the set of elements that are in both  X and Y."
   ]
  },
  {
   "cell_type": "code",
   "execution_count": 123,
   "metadata": {},
   "outputs": [
    {
     "data": {
      "text/plain": [
       "{1, 2}"
      ]
     },
     "execution_count": 123,
     "metadata": {},
     "output_type": "execute_result"
    }
   ],
   "source": [
    "X & Y    # '&' is the intersection operator"
   ]
  },
  {
   "cell_type": "markdown",
   "metadata": {},
   "source": [
    "The union of X and Y is the set of elements that are in either  X or  Y."
   ]
  },
  {
   "cell_type": "code",
   "execution_count": 124,
   "metadata": {},
   "outputs": [
    {
     "data": {
      "text/plain": [
       "{1, 2, 3, 4, 5}"
      ]
     },
     "execution_count": 124,
     "metadata": {},
     "output_type": "execute_result"
    }
   ],
   "source": [
    "X | Y    # '|' is the union operator"
   ]
  },
  {
   "cell_type": "markdown",
   "metadata": {},
   "source": [
    "The set difference between X and Y is the set of elements in X that are not in  Y."
   ]
  },
  {
   "cell_type": "code",
   "execution_count": 125,
   "metadata": {},
   "outputs": [
    {
     "data": {
      "text/plain": [
       "{3, 4, 5}"
      ]
     },
     "execution_count": 125,
     "metadata": {},
     "output_type": "execute_result"
    }
   ],
   "source": [
    "X - Y    # '-' is the set difference operator"
   ]
  },
  {
   "cell_type": "markdown",
   "metadata": {},
   "source": [
    "### You try\n",
    "\n",
    "Try some more work with sets of strings below."
   ]
  },
  {
   "cell_type": "code",
   "execution_count": 126,
   "metadata": {},
   "outputs": [
    {
     "data": {
      "text/plain": [
       "{'apple', 'banana', 'orange'}"
      ]
     },
     "execution_count": 126,
     "metadata": {},
     "output_type": "execute_result"
    }
   ],
   "source": [
    "fruit = set(['orange', 'banana', 'apple'])\n",
    "fruit"
   ]
  },
  {
   "cell_type": "code",
   "execution_count": 127,
   "metadata": {},
   "outputs": [
    {
     "data": {
      "text/plain": [
       "{'blue', 'green', 'orange', 'red'}"
      ]
     },
     "execution_count": 127,
     "metadata": {},
     "output_type": "execute_result"
    }
   ],
   "source": [
    "colours = set(['red', 'green', 'blue', 'orange'])\n",
    "colours"
   ]
  },
  {
   "cell_type": "markdown",
   "metadata": {},
   "source": [
    "Fruit and colours are different to us as people, but to the computer, the string 'orange' is just the string 'orange' whether it is in a set called fruit or a set called colours."
   ]
  },
  {
   "cell_type": "code",
   "execution_count": 128,
   "metadata": {},
   "outputs": [
    {
     "name": "stdout",
     "output_type": "stream",
     "text": [
      "fruit intersection colours is set(['orange'])\n",
      "fruit union colours is set(['blue', 'green', 'apple', 'orange', 'banana', 'red'])\n",
      "fruit - colours is set(['banana', 'apple'])\n",
      "colours - fruit is set(['blue', 'green', 'red'])\n"
     ]
    }
   ],
   "source": [
    "print \"fruit intersection colours is\", fruit & colours    \n",
    "print \"fruit union colours is\", fruit | colours    \n",
    "print \"fruit - colours is\", fruit - colours    \n",
    "print \"colours - fruit is\", colours - fruit"
   ]
  },
  {
   "cell_type": "markdown",
   "metadata": {},
   "source": [
    "Try a few other simple subset examples - make up your own sets and try some intersections, unions, and set difference operations.  The best way to try new possible operations on a set such as X we just created is to type a period after X and hit `<TAB>` key.  THis will bring up all the possible methods you can call on the set X."
   ]
  },
  {
   "cell_type": "code",
   "execution_count": 129,
   "metadata": {
    "collapsed": true
   },
   "outputs": [],
   "source": [
    "mySet = set([1,2,3,4,5,6,7,8,9])"
   ]
  },
  {
   "cell_type": "code",
   "execution_count": null,
   "metadata": {
    "collapsed": true
   },
   "outputs": [],
   "source": [
    "mySet.         # try placing the cursor after the dot and hit <TAB> key"
   ]
  },
  {
   "cell_type": "code",
   "execution_count": null,
   "metadata": {
    "collapsed": true
   },
   "outputs": [],
   "source": []
  },
  {
   "cell_type": "code",
   "execution_count": null,
   "metadata": {
    "collapsed": true
   },
   "outputs": [],
   "source": [
    "?mySet.add     # you can get help on a method by prepending a question mark"
   ]
  },
  {
   "cell_type": "code",
   "execution_count": null,
   "metadata": {
    "collapsed": true
   },
   "outputs": [],
   "source": []
  },
  {
   "cell_type": "markdown",
   "metadata": {},
   "source": [
    "Infact, there are two ways to make sets in SageMath.  We have so far used [the python set](https://docs.python.org/2/library/sets.html) to make a set.  \n",
    "\n",
    "However we can use the SageMath `Set` to maka sets too.  SageMath `Set` is more mathematically consisitent.  If you are interested in the SageMath `Set` go to the source and work through the [SageMath reference on Sets](http://doc.sagemath.org/html/en/reference/sets/sage/sets/set.html).  \n",
    "\n",
    "But, first let us appreciate the difference between Python `set` and SageMath `Set`!"
   ]
  },
  {
   "cell_type": "code",
   "execution_count": 130,
   "metadata": {},
   "outputs": [
    {
     "data": {
      "text/plain": [
       "{1, 2, 3, 4}"
      ]
     },
     "execution_count": 130,
     "metadata": {},
     "output_type": "execute_result"
    }
   ],
   "source": [
    "X = set([1, 2, 3, 4])  # make the set X={1,2,3,4} with python set\n",
    "X                      # disclose X"
   ]
  },
  {
   "cell_type": "code",
   "execution_count": 131,
   "metadata": {},
   "outputs": [
    {
     "data": {
      "text/plain": [
       "<type 'set'>"
      ]
     },
     "execution_count": 131,
     "metadata": {},
     "output_type": "execute_result"
    }
   ],
   "source": [
    "type(X)                # this is the set in python"
   ]
  },
  {
   "cell_type": "code",
   "execution_count": 132,
   "metadata": {},
   "outputs": [
    {
     "data": {
      "text/plain": [
       "{1, 2, 3, 4}"
      ]
     },
     "execution_count": 132,
     "metadata": {},
     "output_type": "execute_result"
    }
   ],
   "source": [
    "anotherX = Set([1, 2, 3, 4])   # make the set anotherX={1,2,3,4} in SAGE Set\n",
    "anotherX #disclose it"
   ]
  },
  {
   "cell_type": "code",
   "execution_count": 133,
   "metadata": {},
   "outputs": [
    {
     "data": {
      "text/plain": [
       "<class 'sage.sets.set.Set_object_enumerated_with_category'>"
      ]
     },
     "execution_count": 133,
     "metadata": {},
     "output_type": "execute_result"
    }
   ],
   "source": [
    "type(anotherX)                 # this is the set in SAGE and is more mathy"
   ]
  },
  {
   "cell_type": "code",
   "execution_count": null,
   "metadata": {
    "collapsed": true
   },
   "outputs": [],
   "source": [
    "anotherX. # see what methods are available in SageMath Set"
   ]
  },
  {
   "cell_type": "markdown",
   "metadata": {},
   "source": [
    "## Example 4\n",
    "Python also provides something called a [frozenset](https://docs.python.org/2/library/stdtypes.html#frozenset), which you can't change like an ordinary set."
   ]
  },
  {
   "cell_type": "code",
   "execution_count": 134,
   "metadata": {},
   "outputs": [
    {
     "data": {
      "text/plain": [
       "frozenset({0.100000000000000, 1/7, 0.200000000000000, 2/5})"
      ]
     },
     "execution_count": 134,
     "metadata": {},
     "output_type": "execute_result"
    }
   ],
   "source": [
    "aFrozenSet = frozenset([2/5, 0.2, 1/7, 0.1])\n",
    "aFrozenSet"
   ]
  },
  {
   "cell_type": "code",
   "execution_count": 135,
   "metadata": {},
   "outputs": [
    {
     "ename": "AttributeError",
     "evalue": "'frozenset' object has no attribute 'add'",
     "output_type": "error",
     "traceback": [
      "\u001b[0;31m---------------------------------------------------------------------------\u001b[0m",
      "\u001b[0;31mAttributeError\u001b[0m                            Traceback (most recent call last)",
      "\u001b[0;32m<ipython-input-135-a9833ac872d1>\u001b[0m in \u001b[0;36m<module>\u001b[0;34m()\u001b[0m\n\u001b[0;32m----> 1\u001b[0;31m \u001b[0maFrozenSet\u001b[0m\u001b[0;34m.\u001b[0m\u001b[0madd\u001b[0m\u001b[0;34m(\u001b[0m\u001b[0mRealNumber\u001b[0m\u001b[0;34m(\u001b[0m\u001b[0;34m'0.3'\u001b[0m\u001b[0;34m)\u001b[0m\u001b[0;34m)\u001b[0m \u001b[0;31m# This should give an error\u001b[0m\u001b[0;34m\u001b[0m\u001b[0m\n\u001b[0m",
      "\u001b[0;31mAttributeError\u001b[0m: 'frozenset' object has no attribute 'add'"
     ]
    }
   ],
   "source": [
    "aFrozenSet.add(0.3) # This should give an error"
   ]
  },
  {
   "cell_type": "markdown",
   "metadata": {},
   "source": [
    "## Under the Set's Hood  \n",
    "\n",
    "The key is to remember that sets are unordered:  a set {1, 2, 3} is the same as the set {2, 1, 3} is the same as the set {3, 1, 2} ...  (soon we will talk about ordered collections like lists where order is important - but for the moment just remember that a set is about collections of unique values or objects). Remember also that the (lower case s) set is a python type (in contrast to the 'more mathy' SageMath Set with a capital S).  For many 'non-mathy' computing purposes, what matters about a set is the speed of being able to find things in the set without making it expensive (in computer power) to add and remove things, and the best way of doing this (invisible to the programmer actually using the set) is to base the set on a [hash table](https://en.wikipedia.org/wiki/Hash_table).  In practical terms what this means is that the ordering that Sage uses to actually display a set is related to the hash values it has given to the elements in the set which may be totally unrelated to what you or I would think of as any obvious ordering based on the magnitude of the values in the set, or the order in which we put them in, etc.   Remember, you don't need to know anything about hash values and the 'under-the-hood' construction of sets for this course - this explanation is just to give a bit more background."
   ]
  },
  {
   "cell_type": "markdown",
   "metadata": {},
   "source": [
    "## Using sets to find the words with 15 or more characters in P&P"
   ]
  },
  {
   "cell_type": "code",
   "execution_count": 99,
   "metadata": {},
   "outputs": [],
   "source": [
    "# This time we are loading the file from our data directory\n",
    "with open('data/pride_and_prejudice.txt', 'r') as myfile:\n",
    "  prideAndPrejudiceRaw = myfile.read().decode('utf-8')\n",
    "\n",
    "import re \n",
    "bigWordsSet = set([]) # start an empty set\n",
    "# make a list of chapters\n",
    "chapterList = re.sub('\\\\s+', ' ',prideAndPrejudiceRaw).split('Chapter ')[1:]\n",
    "for chapter in chapterList:\n",
    "    content = (repr(chapter[0:]).decode('unicode_escape')).lower() # get content as lower-case\n",
    "    bigWordsSet = bigWordsSet | \\\n",
    "                    set([x for x in content.split(' ') if (len(x)>14 and x.isalpha())])\n",
    "    # union with list-comprehended set - soon you will get this!"
   ]
  },
  {
   "cell_type": "code",
   "execution_count": 101,
   "metadata": {},
   "outputs": [
    {
     "data": {
      "text/plain": [
       "{u'accomplishments',\n",
       " u'acknowledgments',\n",
       " u'communicativeness',\n",
       " u'condescendingly',\n",
       " u'congratulations',\n",
       " u'conscientiously',\n",
       " u'disappointments',\n",
       " u'discontentedness',\n",
       " u'disinterestedness',\n",
       " u'inconsistencies',\n",
       " u'merchantibility',\n",
       " u'misrepresentation',\n",
       " u'recommendations',\n",
       " u'representations',\n",
       " u'superciliousness',\n",
       " u'thoughtlessness',\n",
       " u'uncompanionable',\n",
       " u'unenforceability'}"
      ]
     },
     "execution_count": 101,
     "metadata": {},
     "output_type": "execute_result"
    }
   ],
   "source": [
    "bigWordsSet # set of big words with > 14 characters in any chapter of P&P"
   ]
  },
  {
   "cell_type": "markdown",
   "metadata": {},
   "source": [
    "---\n",
    "---\n",
    "**Note** that there are much more convenient methods to read text files that have been structured into a certain form. You are purposely being keept much closer to the raw data here. Starting directly with convenient high-level methods is not a good way to appreciate wrangling data closer to the source. Furthermore, it is easier to pick up the high-level methods later on."
   ]
  }
 ],
 "metadata": {
  "kernelspec": {
   "display_name": "SageMath 8.4",
   "language": "",
   "name": "sagemath"
  },
  "language_info": {
   "codemirror_mode": {
    "name": "ipython",
    "version": 2
   },
   "file_extension": ".py",
   "mimetype": "text/x-python",
   "name": "python",
   "nbconvert_exporter": "python",
   "pygments_lexer": "ipython2",
   "version": "2.7.15"
  }
 },
 "nbformat": 4,
 "nbformat_minor": 2
}
